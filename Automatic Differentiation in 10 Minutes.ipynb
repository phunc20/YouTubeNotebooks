{
 "cells": [
  {
   "cell_type": "markdown",
   "metadata": {},
   "source": [
    "Follow the video on https://www.youtube.com/watch?v=vAp6nUMrKYg."
   ]
  },
  {
   "cell_type": "markdown",
   "metadata": {},
   "source": [
    "# Autodiff:  <br> Calculus  from another angle \n",
    "(and the special role played by Julia's multiple dispatch and compiler technology)\n",
    "\n",
    "\n",
    "   At the heart of modern machine learning, so popular in (2018),  is an optimization\n",
    "problem.  Optimization means gradients, so suddenly differentiation, especially automatic differentiation, is exciting.\n",
    "\n",
    "\n",
    "  The first time one  hears about automatic differentiation, it is easy to imagine what it is.  Surely it is  straightforward symbolic differentiation applied to code.  One imagines   automatically doing what is  learned  in a calculus class. \n",
    "  <img src=\"http://www2.bc.cc.ca.us/resperic/math6a/lectures/ch5/1/IntegralTable.gif\" width=\"190\">\n",
    "  .... and anyway if it is not that, then it must be finite differences, like one learns in a numerical computing class.\n",
    "  \n",
    "<img src=\"http://image.mathcaptain.com/cms/images/122/Diff%202.png\" width=\"150\">\n",
    "\n"
   ]
  },
  {
   "cell_type": "markdown",
   "metadata": {},
   "source": [
    "## Babylonian sqrt\n",
    "\n",
    "We start with a simple example, the computation of sqrt(x), where  how autodiff works comes as both a mathematical surprise, and a computing wonder.  The example is  the Babylonian algorithm, known to mankind for millenia, to compute sqrt(x):  \n",
    "\n",
    "\n",
    " > Repeat $ t \\leftarrow  (t+x/t) / 2 $ until $t$ converges to $\\sqrt{x}$.\n",
    " \n",
    " Each iteration has one add and two divides. For illustration purposes, 10 iterations suffice."
   ]
  },
  {
   "cell_type": "code",
   "execution_count": 3,
   "metadata": {},
   "outputs": [
    {
     "data": {
      "text/plain": [
       "Babylonian (generic function with 1 method)"
      ]
     },
     "execution_count": 3,
     "metadata": {},
     "output_type": "execute_result"
    }
   ],
   "source": [
    "function Babylonian(x; N = 10) \n",
    "    t = (1+x)/2\n",
    "    ## The above can be thought of as i=1, t = (1 + x/1)/2\n",
    "    ## Could it have been sth arbitrary?\n",
    "    #t = 100\n",
    "    #println(\"t = \", t)\n",
    "    for i = 2:N; t=(t + x/t)/2  end    \n",
    "    t\n",
    "end  "
   ]
  },
  {
   "cell_type": "markdown",
   "metadata": {},
   "source": [
    "Check that it works:"
   ]
  },
  {
   "cell_type": "code",
   "execution_count": 4,
   "metadata": {},
   "outputs": [
    {
     "data": {
      "text/plain": [
       "(1.7724538509055159, 1.7724538509055159)"
      ]
     },
     "execution_count": 4,
     "metadata": {},
     "output_type": "execute_result"
    }
   ],
   "source": [
    "α = π\n",
    "Babylonian(α), √α    "
   ]
  },
  {
   "cell_type": "code",
   "execution_count": 5,
   "metadata": {},
   "outputs": [
    {
     "data": {
      "text/plain": [
       "(1.414213562373095, 1.4142135623730951)"
      ]
     },
     "execution_count": 5,
     "metadata": {},
     "output_type": "execute_result"
    }
   ],
   "source": [
    "x=2; Babylonian(x),√x  # Type \\sqrt+<tab> to get the symbol"
   ]
  },
  {
   "cell_type": "markdown",
   "metadata": {},
   "source": [
    "**(?1)** Questions about Babylonian sqrt.\n",
    "- Why this Babylonian iteration converges to `sqrt(x)`?\n",
    "- Does it matter to start with `t=1`?\n",
    "\n",
    "**(R1)** Cf. `./babylonian_sqrt.ipynb`"
   ]
  },
  {
   "cell_type": "code",
   "execution_count": 6,
   "metadata": {},
   "outputs": [
    {
     "ename": "LoadError",
     "evalue": "ArgumentError: Package Plots not found in current path:\n- Run `import Pkg; Pkg.add(\"Plots\")` to install the Plots package.\n",
     "output_type": "error",
     "traceback": [
      "ArgumentError: Package Plots not found in current path:\n- Run `import Pkg; Pkg.add(\"Plots\")` to install the Plots package.\n",
      "",
      "Stacktrace:",
      " [1] require(::Module, ::Symbol) at ./loading.jl:893",
      " [2] include_string(::Function, ::Module, ::String, ::String) at ./loading.jl:1091"
     ]
    }
   ],
   "source": [
    "# Pkg.add(plots)\n",
    "# Pkg.add(plotly)\n",
    "using Plots\n",
    "plotly()\n",
    "#gr()\n",
    "#pyplot()"
   ]
  },
  {
   "cell_type": "code",
   "execution_count": 7,
   "metadata": {},
   "outputs": [
    {
     "ename": "LoadError",
     "evalue": "UndefVarError: plot not defined",
     "output_type": "error",
     "traceback": [
      "UndefVarError: plot not defined",
      "",
      "Stacktrace:",
      " [1] top-level scope at In[7]:6",
      " [2] include_string(::Function, ::Module, ::String, ::String) at ./loading.jl:1091"
     ]
    }
   ],
   "source": [
    "## Warning first plots load packages, takes time\n",
    "i = 0:.01:49\n",
    "\n",
    "# Note the diff i's and their scopes\n",
    "#plot([x->Babylonian(x,N=i) for i=1:5],i,label=[\"Iteration $j\" for i=1:1,j=1:5])\n",
    "plot([x->Babylonian(x,N=i) for i=1:5],i,label=[\"Iteration $j\" for j=1:5])\n",
    "\n",
    "plot!(sqrt,i,c=\"black\",label=\"sqrt\",\n",
    "      title=\"Those Babylonians really knew how to √\")"
   ]
  },
  {
   "cell_type": "markdown",
   "metadata": {},
   "source": [
    "**(?2)**\n",
    "Why the above plot did not work? Would the same work in `Pluto`?"
   ]
  },
  {
   "cell_type": "markdown",
   "metadata": {},
   "source": [
    "## ...and now the derivative, almost by magic"
   ]
  },
  {
   "cell_type": "markdown",
   "metadata": {},
   "source": [
    "Eight lines of Julia!\n",
    "- No mention of $\\frac{1}{2} x^{-\\frac{1}{2}}$.\n",
    "- `D` for \"**dual number**\", invented by the famous algebraist Clifford in 1873."
   ]
  },
  {
   "cell_type": "code",
   "execution_count": 8,
   "metadata": {},
   "outputs": [],
   "source": [
    "struct D <: Number  # D is a function-derivative pair\n",
    "    f::Tuple{Float64,Float64}\n",
    "end"
   ]
  },
  {
   "cell_type": "markdown",
   "metadata": {},
   "source": [
    "Sum Rule: (x+y)' = x' + y' <br>\n",
    "Quotient Rule: (x/y)' = (yx'-xy') / y^2"
   ]
  },
  {
   "cell_type": "code",
   "execution_count": 9,
   "metadata": {},
   "outputs": [
    {
     "data": {
      "text/plain": [
       "promote_rule (generic function with 123 methods)"
      ]
     },
     "execution_count": 9,
     "metadata": {},
     "output_type": "execute_result"
    }
   ],
   "source": [
    "import Base: +, /, convert, promote_rule\n",
    "+(x::D, y::D) = D(x.f .+ y.f)\n",
    "/(x::D, y::D) = D((x.f[1]/y.f[1], (y.f[1]*x.f[2] - x.f[1]*y.f[2])/y.f[1]^2))\n",
    "convert(::Type{D}, x::Real) = D((x,zero(x)))  # derivative of a constant\n",
    "promote_rule(::Type{D}, ::Type{<:Number}) = D"
   ]
  },
  {
   "cell_type": "markdown",
   "metadata": {},
   "source": [
    "For any given `D`, its `f` will store\n",
    "- `f[1]`: some function $u$\n",
    "- `f[2]`: the derivative $u'$"
   ]
  },
  {
   "cell_type": "markdown",
   "metadata": {},
   "source": [
    "**curly brackets** `Type{}`, not **parentheses** `Type()`."
   ]
  },
  {
   "cell_type": "code",
   "execution_count": 10,
   "metadata": {},
   "outputs": [
    {
     "data": {
      "text/plain": [
       "Type{D}"
      ]
     },
     "execution_count": 10,
     "metadata": {},
     "output_type": "execute_result"
    }
   ],
   "source": [
    "Type{D}"
   ]
  },
  {
   "cell_type": "code",
   "execution_count": 11,
   "metadata": {},
   "outputs": [
    {
     "data": {
      "text/plain": [
       "Type{Number}"
      ]
     },
     "execution_count": 11,
     "metadata": {},
     "output_type": "execute_result"
    }
   ],
   "source": [
    "Type{Number}"
   ]
  },
  {
   "cell_type": "markdown",
   "metadata": {},
   "source": [
    "What is `zero(x)` when `x` is a `Real`?"
   ]
  },
  {
   "cell_type": "code",
   "execution_count": 12,
   "metadata": {},
   "outputs": [
    {
     "data": {
      "text/plain": [
       "2.71828"
      ]
     },
     "execution_count": 12,
     "metadata": {},
     "output_type": "execute_result"
    }
   ],
   "source": [
    "x = 2.71828"
   ]
  },
  {
   "cell_type": "code",
   "execution_count": 13,
   "metadata": {},
   "outputs": [
    {
     "data": {
      "text/plain": [
       "0.0"
      ]
     },
     "execution_count": 13,
     "metadata": {},
     "output_type": "execute_result"
    }
   ],
   "source": [
    "zero(x)"
   ]
  },
  {
   "cell_type": "code",
   "execution_count": 14,
   "metadata": {},
   "outputs": [
    {
     "data": {
      "text/plain": [
       "(Int64, Float64)"
      ]
     },
     "execution_count": 14,
     "metadata": {},
     "output_type": "execute_result"
    }
   ],
   "source": [
    "typeof(zero(10)), typeof(zero(3.14))"
   ]
  },
  {
   "cell_type": "markdown",
   "metadata": {},
   "source": [
    "The same algorithm with no rewrite at all computes properly\n",
    "the derivative as the check shows."
   ]
  },
  {
   "cell_type": "code",
   "execution_count": 15,
   "metadata": {},
   "outputs": [
    {
     "data": {
      "text/plain": [
       "(D((7.0, 0.07142857142857142)), (7.0, 0.07142857142857142))"
      ]
     },
     "execution_count": 15,
     "metadata": {},
     "output_type": "execute_result"
    }
   ],
   "source": [
    "x=49; Babylonian(D((x,1))), (√x,.5/√x)"
   ]
  },
  {
   "cell_type": "code",
   "execution_count": 16,
   "metadata": {},
   "outputs": [
    {
     "data": {
      "text/plain": [
       "(D((1.7724538509055159, 0.28209479177387814)), (1.7724538509055159, 0.28209479177387814))"
      ]
     },
     "execution_count": 16,
     "metadata": {},
     "output_type": "execute_result"
    }
   ],
   "source": [
    "x=π; Babylonian(D((x,1))), (√x,.5/√x)"
   ]
  },
  {
   "cell_type": "code",
   "execution_count": 17,
   "metadata": {},
   "outputs": [
    {
     "data": {
      "text/plain": [
       "\"bbb\""
      ]
     },
     "execution_count": 17,
     "metadata": {},
     "output_type": "execute_result"
    }
   ],
   "source": [
    "aaa = \"aaa\"\n",
    "bbb = \"bbb\""
   ]
  },
  {
   "cell_type": "markdown",
   "metadata": {},
   "source": [
    "**Unlike `Pluto`**, in Jupyter notebook, to write a multi-line code cell we **don't need** to write `begin ... end`"
   ]
  },
  {
   "cell_type": "markdown",
   "metadata": {},
   "source": [
    "## It just works!\n",
    "\n",
    "How does it work?  We will explain in a moment.  Right now marvel that it does.  Note we did not\n",
    "import any autodiff package.  Everything is just basic vanilla Julia."
   ]
  },
  {
   "cell_type": "markdown",
   "metadata": {},
   "source": [
    "## The assembler\n",
    "\n",
    "Most folks don't read assembler, but one can see that it is short.\n",
    "The shortness is a clue that suggests speed!"
   ]
  },
  {
   "cell_type": "code",
   "execution_count": 18,
   "metadata": {},
   "outputs": [
    {
     "name": "stdout",
     "output_type": "stream",
     "text": [
      "\t.text\n",
      "; ┌ @ In[18]:1 within `Babylonian'\n",
      "\tmovq\t%rdi, %rax\n",
      "; │ @ In[18]:2 within `Babylonian'\n",
      "; │┌ @ In[18]:2 within `#Babylonian#8'\n",
      "; ││┌ @ promotion.jl:311 within `+' @ In[9]:2\n",
      "; │││┌ @ broadcast.jl:837 within `materialize'\n",
      "; ││││┌ @ broadcast.jl:1046 within `copy'\n",
      "; │││││┌ @ ntuple.jl:42 within `ntuple'\n",
      "; ││││││┌ @ broadcast.jl:1046 within `#19'\n",
      "; │││││││┌ @ broadcast.jl:621 within `_broadcast_getindex'\n",
      "; ││││││││┌ @ broadcast.jl:648 within `_broadcast_getindex_evalf'\n",
      "; │││││││││┌ @ float.jl:401 within `+'\n",
      "\tvmovsd\t(%rsi), %xmm1           # xmm1 = mem[0],zero\n",
      "\tvmovsd\t8(%rsi), %xmm2          # xmm2 = mem[0],zero\n",
      "\tmovabsq\t$.rodata.cst8, %rcx\n",
      "\tvaddsd\t(%rcx), %xmm1, %xmm4\n",
      "\tvxorpd\t%xmm8, %xmm8, %xmm8\n",
      "\tvaddsd\t%xmm8, %xmm2, %xmm5\n",
      "\tmovabsq\t$140447991773272, %rcx  # imm = 0x7FBC98A8B858\n",
      "\tvmovsd\t(%rcx), %xmm3           # xmm3 = mem[0],zero\n",
      "; ││└└└└└└└└\n",
      "; ││┌ @ promotion.jl:314 within `/' @ In[9]:3 @ float.jl:407\n",
      "\tvmulsd\t%xmm3, %xmm4, %xmm6\n",
      "; │││ @ promotion.jl:314 within `/' @ In[9]:3\n",
      "; │││┌ @ float.jl:405 within `*'\n",
      "\tvaddsd\t%xmm5, %xmm5, %xmm5\n",
      "\tvmulsd\t%xmm8, %xmm4, %xmm4\n",
      "; │││└\n",
      "; │││┌ @ float.jl:403 within `-'\n",
      "\tvsubsd\t%xmm4, %xmm5, %xmm5\n",
      "\tmovabsq\t$140447991773280, %rcx  # imm = 0x7FBC98A8B860\n",
      "\tvmovsd\t(%rcx), %xmm4           # xmm4 = mem[0],zero\n",
      "; │││└\n",
      "; │││ @ promotion.jl:314 within `/' @ In[9]:3 @ float.jl:407\n",
      "\tvmulsd\t%xmm4, %xmm5, %xmm5\n",
      "; ││└\n",
      "; ││ @ In[18]:3 within `#Babylonian#8'\n",
      "; ││┌ @ In[9]:3 within `/' @ float.jl:407\n",
      "\tvdivsd\t%xmm6, %xmm1, %xmm9\n",
      "; │││ @ In[9]:3 within `/'\n",
      "; │││┌ @ float.jl:405 within `*'\n",
      "\tvmulsd\t%xmm2, %xmm6, %xmm0\n",
      "\tvmulsd\t%xmm1, %xmm5, %xmm7\n",
      "; │││└\n",
      "; │││┌ @ float.jl:403 within `-'\n",
      "\tvsubsd\t%xmm7, %xmm0, %xmm0\n",
      "; │││└\n",
      "; │││┌ @ intfuncs.jl:296 within `literal_pow'\n",
      "; ││││┌ @ float.jl:405 within `*'\n",
      "\tvmulsd\t%xmm6, %xmm6, %xmm7\n",
      "; │││└└\n",
      "; │││ @ In[9]:3 within `/' @ float.jl:407\n",
      "\tvdivsd\t%xmm7, %xmm0, %xmm0\n",
      "; ││└\n",
      "; ││┌ @ In[9]:2 within `+'\n",
      "; │││┌ @ broadcast.jl:837 within `materialize'\n",
      "; ││││┌ @ broadcast.jl:1046 within `copy'\n",
      "; │││││┌ @ ntuple.jl:42 within `ntuple'\n",
      "; ││││││┌ @ broadcast.jl:1046 within `#19'\n",
      "; │││││││┌ @ broadcast.jl:621 within `_broadcast_getindex'\n",
      "; ││││││││┌ @ broadcast.jl:648 within `_broadcast_getindex_evalf'\n",
      "; │││││││││┌ @ float.jl:401 within `+'\n",
      "\tvaddsd\t%xmm9, %xmm6, %xmm6\n",
      "\tvaddsd\t%xmm0, %xmm5, %xmm0\n",
      "; ││└└└└└└└└\n",
      "; ││┌ @ promotion.jl:314 within `/' @ In[9]:3 @ float.jl:407\n",
      "\tvmulsd\t%xmm3, %xmm6, %xmm5\n",
      "; │││ @ promotion.jl:314 within `/' @ In[9]:3\n",
      "; │││┌ @ float.jl:405 within `*'\n",
      "\tvaddsd\t%xmm0, %xmm0, %xmm0\n",
      "\tvmulsd\t%xmm8, %xmm6, %xmm6\n",
      "; │││└\n",
      "; │││┌ @ float.jl:403 within `-'\n",
      "\tvsubsd\t%xmm6, %xmm0, %xmm0\n",
      "; │││└\n",
      "; │││ @ promotion.jl:314 within `/' @ In[9]:3 @ float.jl:407\n",
      "\tvmulsd\t%xmm4, %xmm0, %xmm0\n",
      "; ││└\n",
      "; ││┌ @ In[9]:3 within `/' @ float.jl:407\n",
      "\tvdivsd\t%xmm5, %xmm1, %xmm9\n",
      "; │││ @ In[9]:3 within `/'\n",
      "; │││┌ @ float.jl:405 within `*'\n",
      "\tvmulsd\t%xmm2, %xmm5, %xmm7\n",
      "\tvmulsd\t%xmm1, %xmm0, %xmm6\n",
      "; │││└\n",
      "; │││┌ @ float.jl:403 within `-'\n",
      "\tvsubsd\t%xmm6, %xmm7, %xmm6\n",
      "; │││└\n",
      "; │││┌ @ intfuncs.jl:296 within `literal_pow'\n",
      "; ││││┌ @ float.jl:405 within `*'\n",
      "\tvmulsd\t%xmm5, %xmm5, %xmm7\n",
      "; │││└└\n",
      "; │││ @ In[9]:3 within `/' @ float.jl:407\n",
      "\tvdivsd\t%xmm7, %xmm6, %xmm6\n",
      "; ││└\n",
      "; ││┌ @ In[9]:2 within `+'\n",
      "; │││┌ @ broadcast.jl:837 within `materialize'\n",
      "; ││││┌ @ broadcast.jl:1046 within `copy'\n",
      "; │││││┌ @ ntuple.jl:42 within `ntuple'\n",
      "; ││││││┌ @ broadcast.jl:1046 within `#19'\n",
      "; │││││││┌ @ broadcast.jl:621 within `_broadcast_getindex'\n",
      "; ││││││││┌ @ broadcast.jl:648 within `_broadcast_getindex_evalf'\n",
      "; │││││││││┌ @ float.jl:401 within `+'\n",
      "\tvaddsd\t%xmm9, %xmm5, %xmm5\n",
      "\tvaddsd\t%xmm6, %xmm0, %xmm0\n",
      "; ││└└└└└└└└\n",
      "; ││┌ @ promotion.jl:314 within `/' @ In[9]:3 @ float.jl:407\n",
      "\tvmulsd\t%xmm3, %xmm5, %xmm6\n",
      "; │││ @ promotion.jl:314 within `/' @ In[9]:3\n",
      "; │││┌ @ float.jl:405 within `*'\n",
      "\tvaddsd\t%xmm0, %xmm0, %xmm0\n",
      "\tvmulsd\t%xmm8, %xmm5, %xmm5\n",
      "; │││└\n",
      "; │││┌ @ float.jl:403 within `-'\n",
      "\tvsubsd\t%xmm5, %xmm0, %xmm0\n",
      "; │││└\n",
      "; │││ @ promotion.jl:314 within `/' @ In[9]:3 @ float.jl:407\n",
      "\tvmulsd\t%xmm4, %xmm0, %xmm0\n",
      "; ││└\n",
      "; ││┌ @ In[9]:3 within `/' @ float.jl:407\n",
      "\tvdivsd\t%xmm6, %xmm1, %xmm9\n",
      "; │││ @ In[9]:3 within `/'\n",
      "; │││┌ @ float.jl:405 within `*'\n",
      "\tvmulsd\t%xmm2, %xmm6, %xmm7\n",
      "\tvmulsd\t%xmm1, %xmm0, %xmm5\n",
      "; │││└\n",
      "; │││┌ @ float.jl:403 within `-'\n",
      "\tvsubsd\t%xmm5, %xmm7, %xmm5\n",
      "; │││└\n",
      "; │││┌ @ intfuncs.jl:296 within `literal_pow'\n",
      "; ││││┌ @ float.jl:405 within `*'\n",
      "\tvmulsd\t%xmm6, %xmm6, %xmm7\n",
      "; │││└└\n",
      "; │││ @ In[9]:3 within `/' @ float.jl:407\n",
      "\tvdivsd\t%xmm7, %xmm5, %xmm5\n",
      "; ││└\n",
      "; ││┌ @ In[9]:2 within `+'\n",
      "; │││┌ @ broadcast.jl:837 within `materialize'\n",
      "; ││││┌ @ broadcast.jl:1046 within `copy'\n",
      "; │││││┌ @ ntuple.jl:42 within `ntuple'\n",
      "; ││││││┌ @ broadcast.jl:1046 within `#19'\n",
      "; │││││││┌ @ broadcast.jl:621 within `_broadcast_getindex'\n",
      "; ││││││││┌ @ broadcast.jl:648 within `_broadcast_getindex_evalf'\n",
      "; │││││││││┌ @ float.jl:401 within `+'\n",
      "\tvaddsd\t%xmm9, %xmm6, %xmm6\n",
      "\tvaddsd\t%xmm5, %xmm0, %xmm0\n",
      "; ││└└└└└└└└\n",
      "; ││┌ @ promotion.jl:314 within `/' @ In[9]:3 @ float.jl:407\n",
      "\tvmulsd\t%xmm3, %xmm6, %xmm5\n",
      "; │││ @ promotion.jl:314 within `/' @ In[9]:3\n",
      "; │││┌ @ float.jl:405 within `*'\n",
      "\tvaddsd\t%xmm0, %xmm0, %xmm0\n",
      "\tvmulsd\t%xmm8, %xmm6, %xmm6\n",
      "; │││└\n",
      "; │││┌ @ float.jl:403 within `-'\n",
      "\tvsubsd\t%xmm6, %xmm0, %xmm0\n",
      "; │││└\n",
      "; │││ @ promotion.jl:314 within `/' @ In[9]:3 @ float.jl:407\n",
      "\tvmulsd\t%xmm4, %xmm0, %xmm0\n",
      "; ││└\n",
      "; ││┌ @ In[9]:3 within `/' @ float.jl:407\n",
      "\tvdivsd\t%xmm5, %xmm1, %xmm9\n",
      "; │││ @ In[9]:3 within `/'\n",
      "; │││┌ @ float.jl:405 within `*'\n",
      "\tvmulsd\t%xmm2, %xmm5, %xmm7\n",
      "\tvmulsd\t%xmm1, %xmm0, %xmm6\n",
      "; │││└\n",
      "; │││┌ @ float.jl:403 within `-'\n",
      "\tvsubsd\t%xmm6, %xmm7, %xmm6\n",
      "; │││└\n",
      "; │││┌ @ intfuncs.jl:296 within `literal_pow'\n",
      "; ││││┌ @ float.jl:405 within `*'\n",
      "\tvmulsd\t%xmm5, %xmm5, %xmm7\n",
      "; │││└└\n",
      "; │││ @ In[9]:3 within `/' @ float.jl:407\n",
      "\tvdivsd\t%xmm7, %xmm6, %xmm6\n",
      "; ││└\n",
      "; ││┌ @ In[9]:2 within `+'\n",
      "; │││┌ @ broadcast.jl:837 within `materialize'\n",
      "; ││││┌ @ broadcast.jl:1046 within `copy'\n",
      "; │││││┌ @ ntuple.jl:42 within `ntuple'\n",
      "; ││││││┌ @ broadcast.jl:1046 within `#19'\n",
      "; │││││││┌ @ broadcast.jl:621 within `_broadcast_getindex'\n",
      "; ││││││││┌ @ broadcast.jl:648 within `_broadcast_getindex_evalf'\n",
      "; │││││││││┌ @ float.jl:401 within `+'\n",
      "\tvaddsd\t%xmm9, %xmm5, %xmm5\n",
      "\tvaddsd\t%xmm6, %xmm0, %xmm0\n",
      "; ││└└└└└└└└\n",
      "; ││┌ @ promotion.jl:314 within `/' @ In[9]:3 @ float.jl:407\n",
      "\tvmulsd\t%xmm3, %xmm5, %xmm6\n",
      "; │││ @ promotion.jl:314 within `/' @ In[9]:3\n",
      "; │││┌ @ float.jl:405 within `*'\n",
      "\tvaddsd\t%xmm0, %xmm0, %xmm0\n",
      "\tvmulsd\t%xmm8, %xmm5, %xmm5\n",
      "; │││└\n",
      "; │││┌ @ float.jl:403 within `-'\n",
      "\tvsubsd\t%xmm5, %xmm0, %xmm0\n",
      "; │││└\n",
      "; │││ @ promotion.jl:314 within `/' @ In[9]:3 @ float.jl:407\n",
      "\tvmulsd\t%xmm4, %xmm0, %xmm0\n",
      "; ││└\n",
      "; ││┌ @ In[9]:3 within `/' @ float.jl:407\n",
      "\tvdivsd\t%xmm6, %xmm1, %xmm9\n",
      "; │││ @ In[9]:3 within `/'\n",
      "; │││┌ @ float.jl:405 within `*'\n",
      "\tvmulsd\t%xmm2, %xmm6, %xmm7\n",
      "\tvmulsd\t%xmm1, %xmm0, %xmm5\n",
      "; │││└\n",
      "; │││┌ @ float.jl:403 within `-'\n",
      "\tvsubsd\t%xmm5, %xmm7, %xmm5\n",
      "; │││└\n",
      "; │││┌ @ intfuncs.jl:296 within `literal_pow'\n",
      "; ││││┌ @ float.jl:405 within `*'\n",
      "\tvmulsd\t%xmm6, %xmm6, %xmm7\n",
      "; │││└└\n",
      "; │││ @ In[9]:3 within `/' @ float.jl:407\n",
      "\tvdivsd\t%xmm7, %xmm5, %xmm5\n",
      "; ││└\n",
      "; ││┌ @ In[9]:2 within `+'\n",
      "; │││┌ @ broadcast.jl:837 within `materialize'\n",
      "; ││││┌ @ broadcast.jl:1046 within `copy'\n",
      "; │││││┌ @ ntuple.jl:42 within `ntuple'\n",
      "; ││││││┌ @ broadcast.jl:1046 within `#19'\n",
      "; │││││││┌ @ broadcast.jl:621 within `_broadcast_getindex'\n",
      "; ││││││││┌ @ broadcast.jl:648 within `_broadcast_getindex_evalf'\n",
      "; │││││││││┌ @ float.jl:401 within `+'\n",
      "\tvaddsd\t%xmm9, %xmm6, %xmm6\n",
      "\tvaddsd\t%xmm5, %xmm0, %xmm0\n",
      "; ││└└└└└└└└\n",
      "; ││┌ @ promotion.jl:314 within `/' @ In[9]:3 @ float.jl:407\n",
      "\tvmulsd\t%xmm3, %xmm6, %xmm5\n",
      "; │││ @ promotion.jl:314 within `/' @ In[9]:3\n",
      "; │││┌ @ float.jl:405 within `*'\n",
      "\tvaddsd\t%xmm0, %xmm0, %xmm0\n",
      "\tvmulsd\t%xmm8, %xmm6, %xmm6\n",
      "; │││└\n",
      "; │││┌ @ float.jl:403 within `-'\n",
      "\tvsubsd\t%xmm6, %xmm0, %xmm0\n",
      "; │││└\n",
      "; │││ @ promotion.jl:314 within `/' @ In[9]:3 @ float.jl:407\n",
      "\tvmulsd\t%xmm4, %xmm0, %xmm0\n",
      "; ││└\n",
      "; ││┌ @ In[9]:3 within `/' @ float.jl:407\n",
      "\tvdivsd\t%xmm5, %xmm1, %xmm9\n",
      "; │││ @ In[9]:3 within `/'\n",
      "; │││┌ @ float.jl:405 within `*'\n",
      "\tvmulsd\t%xmm2, %xmm5, %xmm7\n",
      "\tvmulsd\t%xmm1, %xmm0, %xmm6\n",
      "; │││└\n",
      "; │││┌ @ float.jl:403 within `-'\n",
      "\tvsubsd\t%xmm6, %xmm7, %xmm6\n",
      "; │││└\n",
      "; │││┌ @ intfuncs.jl:296 within `literal_pow'\n",
      "; ││││┌ @ float.jl:405 within `*'\n",
      "\tvmulsd\t%xmm5, %xmm5, %xmm7\n",
      "; │││└└\n",
      "; │││ @ In[9]:3 within `/' @ float.jl:407\n",
      "\tvdivsd\t%xmm7, %xmm6, %xmm6\n",
      "; ││└\n",
      "; ││┌ @ In[9]:2 within `+'\n",
      "; │││┌ @ broadcast.jl:837 within `materialize'\n",
      "; ││││┌ @ broadcast.jl:1046 within `copy'\n",
      "; │││││┌ @ ntuple.jl:42 within `ntuple'\n",
      "; ││││││┌ @ broadcast.jl:1046 within `#19'\n",
      "; │││││││┌ @ broadcast.jl:621 within `_broadcast_getindex'\n",
      "; ││││││││┌ @ broadcast.jl:648 within `_broadcast_getindex_evalf'\n",
      "; │││││││││┌ @ float.jl:401 within `+'\n",
      "\tvaddsd\t%xmm9, %xmm5, %xmm5\n",
      "\tvaddsd\t%xmm6, %xmm0, %xmm0\n",
      "; ││└└└└└└└└\n",
      "; ││┌ @ promotion.jl:314 within `/' @ In[9]:3 @ float.jl:407\n",
      "\tvmulsd\t%xmm3, %xmm5, %xmm6\n",
      "; │││ @ promotion.jl:314 within `/' @ In[9]:3\n",
      "; │││┌ @ float.jl:405 within `*'\n",
      "\tvaddsd\t%xmm0, %xmm0, %xmm0\n",
      "\tvmulsd\t%xmm8, %xmm5, %xmm5\n",
      "; │││└\n",
      "; │││┌ @ float.jl:403 within `-'\n",
      "\tvsubsd\t%xmm5, %xmm0, %xmm0\n",
      "; │││└\n",
      "; │││ @ promotion.jl:314 within `/' @ In[9]:3 @ float.jl:407\n",
      "\tvmulsd\t%xmm4, %xmm0, %xmm0\n",
      "; ││└\n",
      "; ││┌ @ In[9]:3 within `/' @ float.jl:407\n",
      "\tvdivsd\t%xmm6, %xmm1, %xmm9\n",
      "; │││ @ In[9]:3 within `/'\n",
      "; │││┌ @ float.jl:405 within `*'\n",
      "\tvmulsd\t%xmm2, %xmm6, %xmm7\n",
      "\tvmulsd\t%xmm1, %xmm0, %xmm5\n",
      "; │││└\n",
      "; │││┌ @ float.jl:403 within `-'\n",
      "\tvsubsd\t%xmm5, %xmm7, %xmm5\n",
      "; │││└\n",
      "; │││┌ @ intfuncs.jl:296 within `literal_pow'\n",
      "; ││││┌ @ float.jl:405 within `*'\n",
      "\tvmulsd\t%xmm6, %xmm6, %xmm7\n",
      "; │││└└\n",
      "; │││ @ In[9]:3 within `/' @ float.jl:407\n",
      "\tvdivsd\t%xmm7, %xmm5, %xmm5\n",
      "; ││└\n",
      "; ││┌ @ In[9]:2 within `+'\n",
      "; │││┌ @ broadcast.jl:837 within `materialize'\n",
      "; ││││┌ @ broadcast.jl:1046 within `copy'\n",
      "; │││││┌ @ ntuple.jl:42 within `ntuple'\n",
      "; ││││││┌ @ broadcast.jl:1046 within `#19'\n",
      "; │││││││┌ @ broadcast.jl:621 within `_broadcast_getindex'\n",
      "; ││││││││┌ @ broadcast.jl:648 within `_broadcast_getindex_evalf'\n",
      "; │││││││││┌ @ float.jl:401 within `+'\n",
      "\tvaddsd\t%xmm9, %xmm6, %xmm6\n",
      "\tvaddsd\t%xmm5, %xmm0, %xmm0\n",
      "; ││└└└└└└└└\n",
      "; ││┌ @ promotion.jl:314 within `/' @ In[9]:3 @ float.jl:407\n",
      "\tvmulsd\t%xmm3, %xmm6, %xmm5\n",
      "; │││ @ promotion.jl:314 within `/' @ In[9]:3\n",
      "; │││┌ @ float.jl:405 within `*'\n",
      "\tvaddsd\t%xmm0, %xmm0, %xmm0\n",
      "\tvmulsd\t%xmm8, %xmm6, %xmm6\n",
      "; │││└\n",
      "; │││┌ @ float.jl:403 within `-'\n",
      "\tvsubsd\t%xmm6, %xmm0, %xmm0\n",
      "; │││└\n",
      "; │││ @ promotion.jl:314 within `/' @ In[9]:3 @ float.jl:407\n",
      "\tvmulsd\t%xmm4, %xmm0, %xmm0\n",
      "; ││└\n",
      "; ││┌ @ In[9]:3 within `/' @ float.jl:407\n",
      "\tvdivsd\t%xmm5, %xmm1, %xmm9\n",
      "; │││ @ In[9]:3 within `/'\n",
      "; │││┌ @ float.jl:405 within `*'\n",
      "\tvmulsd\t%xmm2, %xmm5, %xmm7\n",
      "\tvmulsd\t%xmm1, %xmm0, %xmm6\n",
      "; │││└\n",
      "; │││┌ @ float.jl:403 within `-'\n",
      "\tvsubsd\t%xmm6, %xmm7, %xmm6\n",
      "; │││└\n",
      "; │││┌ @ intfuncs.jl:296 within `literal_pow'\n",
      "; ││││┌ @ float.jl:405 within `*'\n",
      "\tvmulsd\t%xmm5, %xmm5, %xmm7\n",
      "; │││└└\n",
      "; │││ @ In[9]:3 within `/' @ float.jl:407\n",
      "\tvdivsd\t%xmm7, %xmm6, %xmm6\n",
      "; ││└\n",
      "; ││┌ @ In[9]:2 within `+'\n",
      "; │││┌ @ broadcast.jl:837 within `materialize'\n",
      "; ││││┌ @ broadcast.jl:1046 within `copy'\n",
      "; │││││┌ @ ntuple.jl:42 within `ntuple'\n",
      "; ││││││┌ @ broadcast.jl:1046 within `#19'\n",
      "; │││││││┌ @ broadcast.jl:621 within `_broadcast_getindex'\n",
      "; ││││││││┌ @ broadcast.jl:648 within `_broadcast_getindex_evalf'\n",
      "; │││││││││┌ @ float.jl:401 within `+'\n",
      "\tvaddsd\t%xmm9, %xmm5, %xmm5\n",
      "\tvaddsd\t%xmm6, %xmm0, %xmm0\n",
      "; ││└└└└└└└└\n",
      "; ││┌ @ promotion.jl:314 within `/' @ In[9]:3 @ float.jl:407\n",
      "\tvmulsd\t%xmm3, %xmm5, %xmm3\n",
      "; │││ @ promotion.jl:314 within `/' @ In[9]:3\n",
      "; │││┌ @ float.jl:405 within `*'\n",
      "\tvaddsd\t%xmm0, %xmm0, %xmm0\n",
      "\tvmulsd\t%xmm8, %xmm5, %xmm5\n",
      "; │││└\n",
      "; │││┌ @ float.jl:403 within `-'\n",
      "\tvsubsd\t%xmm5, %xmm0, %xmm0\n",
      "; │││└\n",
      "; │││ @ promotion.jl:314 within `/' @ In[9]:3 @ float.jl:407\n",
      "\tvmulsd\t%xmm4, %xmm0, %xmm0\n",
      "; ││└\n",
      "; ││┌ @ In[9]:3 within `/' @ float.jl:407\n",
      "\tvdivsd\t%xmm3, %xmm1, %xmm4\n",
      "; │││ @ In[9]:3 within `/'\n",
      "; │││┌ @ float.jl:405 within `*'\n",
      "\tvmulsd\t%xmm2, %xmm3, %xmm2\n",
      "\tvmulsd\t%xmm1, %xmm0, %xmm1\n",
      "; │││└\n",
      "; │││┌ @ float.jl:403 within `-'\n",
      "\tvsubsd\t%xmm1, %xmm2, %xmm1\n",
      "; │││└\n",
      "; │││┌ @ intfuncs.jl:296 within `literal_pow'\n",
      "; ││││┌ @ float.jl:405 within `*'\n",
      "\tvmulsd\t%xmm3, %xmm3, %xmm2\n",
      "; │││└└\n",
      "; │││ @ In[9]:3 within `/' @ float.jl:407\n",
      "\tvdivsd\t%xmm2, %xmm1, %xmm1\n",
      "; ││└\n",
      "; ││┌ @ In[9]:2 within `+'\n",
      "; │││┌ @ broadcast.jl:837 within `materialize'\n",
      "; ││││┌ @ broadcast.jl:1046 within `copy'\n",
      "; │││││┌ @ ntuple.jl:42 within `ntuple'\n",
      "; ││││││┌ @ broadcast.jl:1046 within `#19'\n",
      "; │││││││┌ @ broadcast.jl:621 within `_broadcast_getindex'\n",
      "; ││││││││┌ @ broadcast.jl:648 within `_broadcast_getindex_evalf'\n",
      "; │││││││││┌ @ float.jl:401 within `+'\n",
      "\tvaddsd\t%xmm4, %xmm3, %xmm2\n",
      "\tvaddsd\t%xmm1, %xmm0, %xmm0\n",
      "; ││└└└└└└└└\n",
      "; ││┌ @ promotion.jl:314 within `/' @ In[9]:3\n",
      "; │││┌ @ float.jl:405 within `*'\n",
      "\tvaddsd\t%xmm0, %xmm0, %xmm0\n",
      "\tvmulsd\t%xmm8, %xmm2, %xmm1\n",
      "; │││└\n",
      "; │││┌ @ float.jl:403 within `-'\n",
      "\tvsubsd\t%xmm1, %xmm0, %xmm0\n",
      "; │││└\n",
      "; │││ @ promotion.jl:314 within `/' @ In[9]:3 @ float.jl:407\n",
      "\tvunpcklpd\t%xmm0, %xmm2, %xmm0 # xmm0 = xmm2[0],xmm0[0]\n",
      "\tmovabsq\t$.rodata.cst16, %rcx\n",
      "\tvmulpd\t(%rcx), %xmm0, %xmm0\n",
      "; │└└\n",
      "\tvmovupd\t%xmm0, (%rdi)\n",
      "\tretq\n",
      "\tnopl\t(%rax)\n",
      "; └\n"
     ]
    }
   ],
   "source": [
    "@inline function Babylonian(x; N = 10) \n",
    "    t = (1+x)/2\n",
    "    for i = 2:N; t=(t + x/t)/2  end    \n",
    "    t\n",
    "end  \n",
    "@code_native(Babylonian(D((2,1))))"
   ]
  },
  {
   "cell_type": "markdown",
   "metadata": {},
   "source": [
    "**(?3)** Do we need to rewrite the definition again like above in order to use `@code_native()`?"
   ]
  },
  {
   "cell_type": "markdown",
   "metadata": {},
   "source": [
    "## Symbolically\n",
    "\n",
    "We haven't yet explained how it works, but it may be of some value to understand that the below is mathematically\n",
    "equivalent, though not what the computation is doing.\n",
    "\n",
    "Notice in the below that Babylonian works on SymPy symbols.\n",
    "\n",
    "Note: Python and Julia are good friends.  It's not a competition!  Watch how nicely we can use the same code now with SymPy."
   ]
  },
  {
   "cell_type": "code",
   "execution_count": 19,
   "metadata": {},
   "outputs": [],
   "source": [
    "using Pkg"
   ]
  },
  {
   "cell_type": "code",
   "execution_count": 20,
   "metadata": {},
   "outputs": [
    {
     "name": "stderr",
     "output_type": "stream",
     "text": [
      "\u001b[32m\u001b[1m   Updating\u001b[22m\u001b[39m registry at `~/.julia/registries/General`\n",
      "\u001b[32m\u001b[1m  Resolving\u001b[22m\u001b[39m package versions...\n",
      "\u001b[32m\u001b[1m  Installed\u001b[22m\u001b[39m RecipesBase ─ v1.1.1\n",
      "\u001b[32m\u001b[1m  Installed\u001b[22m\u001b[39m SymPy ─────── v1.0.40\n",
      "\u001b[32m\u001b[1m  Installed\u001b[22m\u001b[39m PyCall ────── v1.92.2\n",
      "\u001b[32m\u001b[1mUpdating\u001b[22m\u001b[39m `~/.julia/environments/v1.5/Project.toml`\n",
      " \u001b[90m [24249f21] \u001b[39m\u001b[92m+ SymPy v1.0.40\u001b[39m\n",
      "\u001b[32m\u001b[1mUpdating\u001b[22m\u001b[39m `~/.julia/environments/v1.5/Manifest.toml`\n",
      " \u001b[90m [efe28fd5] \u001b[39m\u001b[92m+ OpenSpecFun_jll v0.5.3+4\u001b[39m\n",
      " \u001b[90m [438e738f] \u001b[39m\u001b[92m+ PyCall v1.92.2\u001b[39m\n",
      " \u001b[90m [3cdcf5f2] \u001b[39m\u001b[92m+ RecipesBase v1.1.1\u001b[39m\n",
      " \u001b[90m [276daf66] \u001b[39m\u001b[92m+ SpecialFunctions v1.2.1\u001b[39m\n",
      " \u001b[90m [24249f21] \u001b[39m\u001b[92m+ SymPy v1.0.40\u001b[39m\n",
      "\u001b[32m\u001b[1m   Building\u001b[22m\u001b[39m PyCall → `~/.julia/packages/PyCall/tqyST/deps/build.log`\n",
      "┌ Info: Precompiling SymPy [24249f21-da20-56a4-8eb1-6a02cf4ae2e6]\n",
      "└ @ Base loading.jl:1278\n"
     ]
    },
    {
     "ename": "LoadError",
     "evalue": "InitError: PyError (PyImport_ImportModule\n\nThe Python package sympy could not be imported by pyimport. Usually this means\nthat you did not install sympy in the Python version being used by PyCall.\n\nPyCall is currently configured to use the Python version at:\n\n/home/phunc20/.config/miniconda3/envs/homl-1e/bin/python3\n\nand you should use whatever mechanism you usually use (apt-get, pip, conda,\netcetera) to install the Python package containing the sympy module.\n\nOne alternative is to re-configure PyCall to use a different Python\nversion on your system: set ENV[\"PYTHON\"] to the path/name of the python\nexecutable you want to use, run Pkg.build(\"PyCall\"), and re-launch Julia.\n\nAnother alternative is to configure PyCall to use a Julia-specific Python\ndistribution via the Conda.jl package (which installs a private Anaconda\nPython distribution), which has the advantage that packages can be installed\nand kept up-to-date via Julia.  As explained in the PyCall documentation,\nset ENV[\"PYTHON\"]=\"\", run Pkg.build(\"PyCall\"), and re-launch Julia. Then,\nTo install the sympy module, you can use `pyimport_conda(\"sympy\", PKG)`,\nwhere PKG is the Anaconda package that contains the module sympy,\nor alternatively you can use the Conda package directly (via\n`using Conda` followed by `Conda.add` etcetera).\n\n) <class 'ModuleNotFoundError'>\nModuleNotFoundError(\"No module named 'sympy'\")\n\nduring initialization of module SymPy",
     "output_type": "error",
     "traceback": [
      "InitError: PyError (PyImport_ImportModule\n\nThe Python package sympy could not be imported by pyimport. Usually this means\nthat you did not install sympy in the Python version being used by PyCall.\n\nPyCall is currently configured to use the Python version at:\n\n/home/phunc20/.config/miniconda3/envs/homl-1e/bin/python3\n\nand you should use whatever mechanism you usually use (apt-get, pip, conda,\netcetera) to install the Python package containing the sympy module.\n\nOne alternative is to re-configure PyCall to use a different Python\nversion on your system: set ENV[\"PYTHON\"] to the path/name of the python\nexecutable you want to use, run Pkg.build(\"PyCall\"), and re-launch Julia.\n\nAnother alternative is to configure PyCall to use a Julia-specific Python\ndistribution via the Conda.jl package (which installs a private Anaconda\nPython distribution), which has the advantage that packages can be installed\nand kept up-to-date via Julia.  As explained in the PyCall documentation,\nset ENV[\"PYTHON\"]=\"\", run Pkg.build(\"PyCall\"), and re-launch Julia. Then,\nTo install the sympy module, you can use `pyimport_conda(\"sympy\", PKG)`,\nwhere PKG is the Anaconda package that contains the module sympy,\nor alternatively you can use the Conda package directly (via\n`using Conda` followed by `Conda.add` etcetera).\n\n) <class 'ModuleNotFoundError'>\nModuleNotFoundError(\"No module named 'sympy'\")\n\nduring initialization of module SymPy",
      "",
      "Stacktrace:",
      " [1] pyimport(::String) at /home/phunc20/.julia/packages/PyCall/tqyST/src/PyCall.jl:547",
      " [2] pyimport_conda(::String, ::String, ::String) at /home/phunc20/.julia/packages/PyCall/tqyST/src/PyCall.jl:705",
      " [3] pyimport_conda at /home/phunc20/.julia/packages/PyCall/tqyST/src/PyCall.jl:704 [inlined]",
      " [4] __init__() at /home/phunc20/.julia/packages/SymPy/4256i/src/SymPy.jl:118",
      " [5] _include_from_serialized(::String, ::Array{Any,1}) at ./loading.jl:697",
      " [6] _require_from_serialized(::String) at ./loading.jl:749",
      " [7] _require(::Base.PkgId) at ./loading.jl:1040",
      " [8] require(::Base.PkgId) at ./loading.jl:928",
      " [9] require(::Module, ::Symbol) at ./loading.jl:923",
      " [10] include_string(::Function, ::Module, ::String, ::String) at ./loading.jl:1091"
     ]
    }
   ],
   "source": [
    "Pkg.add(\"SymPy\")\n",
    "using SymPy                "
   ]
  },
  {
   "cell_type": "code",
   "execution_count": 69,
   "metadata": {},
   "outputs": [
    {
     "ename": "LoadError",
     "evalue": "UndefVarError: symbols not defined",
     "output_type": "error",
     "traceback": [
      "UndefVarError: symbols not defined",
      "",
      "Stacktrace:",
      " [1] top-level scope at In[69]:1",
      " [2] include_string(::Function, ::Module, ::String, ::String) at ./loading.jl:1091",
      " [3] execute_code(::String, ::String) at /home/phunc20/.julia/packages/IJulia/a1SNk/src/execute_request.jl:27",
      " [4] execute_request(::ZMQ.Socket, ::IJulia.Msg) at /home/phunc20/.julia/packages/IJulia/a1SNk/src/execute_request.jl:86",
      " [5] #invokelatest#1 at ./essentials.jl:710 [inlined]",
      " [6] invokelatest at ./essentials.jl:709 [inlined]",
      " [7] eventloop(::ZMQ.Socket) at /home/phunc20/.julia/packages/IJulia/a1SNk/src/eventloop.jl:8",
      " [8] (::IJulia.var\"#15#18\")() at ./task.jl:356"
     ]
    }
   ],
   "source": [
    "x = symbols(\"x\")\n",
    "display(\"Iterations as a function of x\")\n",
    "for k = 1:5\n",
    " display( simplify(Babylonian(x,N=k)))\n",
    "end\n",
    "\n",
    "display(\"Derivatives as a function of x\")\n",
    "for k = 1:5\n",
    " display(simplify(diff(simplify(Babylonian(x,N=k)),x)))\n",
    "end"
   ]
  },
  {
   "cell_type": "markdown",
   "metadata": {},
   "source": [
    "The code is computing answers mathematically equivalent to the functions above, but not symbolically, numerically. "
   ]
  },
  {
   "cell_type": "markdown",
   "metadata": {},
   "source": [
    "## How autodiff is getting the answer\n",
    "Let us by hand take the \"derivative\" of the Babylonian iteration with respect to x. Specifically t′=dt/dx.  This is the old fashioned way of a human rewriting code."
   ]
  },
  {
   "cell_type": "code",
   "execution_count": 21,
   "metadata": {},
   "outputs": [
    {
     "data": {
      "text/plain": [
       "dBabylonian (generic function with 1 method)"
      ]
     },
     "execution_count": 21,
     "metadata": {},
     "output_type": "execute_result"
    }
   ],
   "source": [
    "function dBabylonian(x; N = 10) \n",
    "    t = (1+x)/2\n",
    "    t′ = 1/2\n",
    "    for i = 1:N;  \n",
    "        t = (t+x/t)/2; \n",
    "        t′= (t′+(t-x*t′)/t^2)/2; \n",
    "    end    \n",
    "    t′\n",
    "\n",
    "end  "
   ]
  },
  {
   "cell_type": "markdown",
   "metadata": {},
   "source": [
    "See this rewritten code gets the right answer.  So the trick is for the computer system to do it for you, and without any loss of speed or convenience."
   ]
  },
  {
   "cell_type": "code",
   "execution_count": 22,
   "metadata": {},
   "outputs": [
    {
     "data": {
      "text/plain": [
       "(0.2820947917738782, 0.28209479177387814)"
      ]
     },
     "execution_count": 22,
     "metadata": {},
     "output_type": "execute_result"
    }
   ],
   "source": [
    "x = π; dBabylonian(x), .5/√x"
   ]
  },
  {
   "cell_type": "markdown",
   "metadata": {},
   "source": [
    "What just happened?  Answer: We created an iteration by hand for t′ given our iteration for t. Then we ran the iteration alongside the iteration for t."
   ]
  },
  {
   "cell_type": "code",
   "execution_count": 23,
   "metadata": {},
   "outputs": [
    {
     "data": {
      "text/plain": [
       "D((1.7724538509055159, 0.28209479177387814))"
      ]
     },
     "execution_count": 23,
     "metadata": {},
     "output_type": "execute_result"
    }
   ],
   "source": [
    "Babylonian(D((x,1)))"
   ]
  },
  {
   "cell_type": "markdown",
   "metadata": {},
   "source": [
    "How did this work?  It created the same derivative iteration that we did by hand, using very general rules that are set once and need not be written by hand."
   ]
  },
  {
   "cell_type": "markdown",
   "metadata": {},
   "source": [
    "Important:: The derivative is substituted before the JIT compiler, and thus efficient compiled code is executed."
   ]
  },
  {
   "cell_type": "markdown",
   "metadata": {},
   "source": [
    "## Dual Number Notation\n",
    "\n",
    "Instead of D(a,b) we can write a + b ϵ, where ϵ satisfies ϵ^2=0.  (Some people like to recall imaginary numbers where an i is introduced with i^2=-1.) \n",
    "\n",
    "Others like to think of how engineers just drop the O(ϵ^2) terms.\n",
    "\n",
    "The four rules are\n",
    "\n",
    "$ (a+b\\epsilon) \\pm (c+d\\epsilon) = (a+c) \\pm (b+d)\\epsilon$\n",
    "\n",
    "$ (a+b\\epsilon) * (c+d\\epsilon) = (ac) + (bc+ad)\\epsilon$\n",
    "\n",
    "$ (a+b\\epsilon) / (c+d\\epsilon) = (a/c) + (bc-ad)/d^2 \\epsilon $\n"
   ]
  },
  {
   "cell_type": "code",
   "execution_count": 24,
   "metadata": {},
   "outputs": [],
   "source": [
    "Base.show(io::IO,x::D) = print(io,x.f[1],\" + \",x.f[2],\" ϵ\")"
   ]
  },
  {
   "cell_type": "code",
   "execution_count": 25,
   "metadata": {},
   "outputs": [
    {
     "data": {
      "text/plain": [
       "* (generic function with 414 methods)"
      ]
     },
     "execution_count": 25,
     "metadata": {},
     "output_type": "execute_result"
    }
   ],
   "source": [
    "# Add the last two rules\n",
    "import Base: -,*\n",
    "-(x::D, y::D) = D(x.f .- y.f)\n",
    "*(x::D, y::D) = D((x.f[1]*y.f[1], (x.f[2]*y.f[1] + x.f[1]*y.f[2])))"
   ]
  },
  {
   "cell_type": "markdown",
   "metadata": {},
   "source": [
    "**(?)** Commutivity of `*`?"
   ]
  },
  {
   "cell_type": "code",
   "execution_count": 26,
   "metadata": {},
   "outputs": [
    {
     "data": {
      "text/plain": [
       "1.0 + 0.0 ϵ"
      ]
     },
     "execution_count": 26,
     "metadata": {},
     "output_type": "execute_result"
    }
   ],
   "source": [
    "D((1,0))"
   ]
  },
  {
   "cell_type": "code",
   "execution_count": 27,
   "metadata": {},
   "outputs": [
    {
     "data": {
      "text/plain": [
       "0.0 + 0.0 ϵ"
      ]
     },
     "execution_count": 27,
     "metadata": {},
     "output_type": "execute_result"
    }
   ],
   "source": [
    "D((0,1))^2"
   ]
  },
  {
   "cell_type": "code",
   "execution_count": 28,
   "metadata": {},
   "outputs": [
    {
     "data": {
      "text/plain": [
       "4.0 + 4.0 ϵ"
      ]
     },
     "execution_count": 28,
     "metadata": {},
     "output_type": "execute_result"
    }
   ],
   "source": [
    "D((2,1)) ^2"
   ]
  },
  {
   "cell_type": "code",
   "execution_count": 29,
   "metadata": {},
   "outputs": [
    {
     "name": "stdout",
     "output_type": "stream",
     "text": [
      "\t.text\n",
      "; ┌ @ intfuncs.jl:274 within `^'\n",
      "\tpushq\t%rbx\n",
      "\tsubq\t$16, %rsp\n",
      "\tmovq\t%rdi, %rbx\n",
      "\tmovabsq\t$power_by_squaring, %rax\n",
      "\tmovq\t%rsp, %rdi\n",
      "\tcallq\t*%rax\n",
      "\tvmovups\t(%rsp), %xmm0\n",
      "\tvmovups\t%xmm0, (%rbx)\n",
      "\tmovq\t%rbx, %rax\n",
      "\taddq\t$16, %rsp\n",
      "\tpopq\t%rbx\n",
      "\tretq\n",
      "\tnopl\t(%rax)\n",
      "; └\n"
     ]
    }
   ],
   "source": [
    "ϵ = D((0,1))\n",
    "@code_native(ϵ^2)"
   ]
  },
  {
   "cell_type": "code",
   "execution_count": 30,
   "metadata": {},
   "outputs": [
    {
     "data": {
      "text/plain": [
       "0.0 + 0.0 ϵ"
      ]
     },
     "execution_count": 30,
     "metadata": {},
     "output_type": "execute_result"
    }
   ],
   "source": [
    "ϵ * ϵ "
   ]
  },
  {
   "cell_type": "code",
   "execution_count": 31,
   "metadata": {},
   "outputs": [
    {
     "data": {
      "text/plain": [
       "0.0 + 0.0 ϵ"
      ]
     },
     "execution_count": 31,
     "metadata": {},
     "output_type": "execute_result"
    }
   ],
   "source": [
    "ϵ^2"
   ]
  },
  {
   "cell_type": "code",
   "execution_count": 32,
   "metadata": {},
   "outputs": [
    {
     "data": {
      "text/plain": [
       "0.0 + 0.0 ϵ"
      ]
     },
     "execution_count": 32,
     "metadata": {},
     "output_type": "execute_result"
    }
   ],
   "source": [
    "ϵ^3"
   ]
  },
  {
   "cell_type": "code",
   "execution_count": 33,
   "metadata": {},
   "outputs": [
    {
     "data": {
      "text/plain": [
       "1.0 + -1.0 ϵ"
      ]
     },
     "execution_count": 33,
     "metadata": {},
     "output_type": "execute_result"
    }
   ],
   "source": [
    "1/(1+ϵ)  # Exact power series:  1-ϵ+ϵ²-ϵ³-..."
   ]
  },
  {
   "cell_type": "markdown",
   "metadata": {},
   "source": [
    "**(?)** Why did Prof. Adelman spoke of `power series:  1-ϵ+ϵ²-ϵ³-...` here? Was it really some power series?"
   ]
  },
  {
   "cell_type": "code",
   "execution_count": 34,
   "metadata": {},
   "outputs": [
    {
     "data": {
      "text/plain": [
       "1.0 + 0.0 ϵ"
      ]
     },
     "execution_count": 34,
     "metadata": {},
     "output_type": "execute_result"
    }
   ],
   "source": [
    "(1+ϵ)*(1-ϵ)"
   ]
  },
  {
   "cell_type": "code",
   "execution_count": 39,
   "metadata": {},
   "outputs": [
    {
     "data": {
      "text/plain": [
       "1.0 + 5.0 ϵ"
      ]
     },
     "execution_count": 39,
     "metadata": {},
     "output_type": "execute_result"
    }
   ],
   "source": [
    "(1+ϵ)^5 ## Note this just works (we didn't train powers)!!"
   ]
  },
  {
   "cell_type": "code",
   "execution_count": 40,
   "metadata": {},
   "outputs": [
    {
     "data": {
      "text/plain": [
       "1.0 + 7.0 ϵ"
      ]
     },
     "execution_count": 40,
     "metadata": {},
     "output_type": "execute_result"
    }
   ],
   "source": [
    "(1+ϵ)^7"
   ]
  },
  {
   "cell_type": "code",
   "execution_count": 41,
   "metadata": {},
   "outputs": [
    {
     "data": {
      "text/plain": [
       "1.0 + 20.0 ϵ"
      ]
     },
     "execution_count": 41,
     "metadata": {},
     "output_type": "execute_result"
    }
   ],
   "source": [
    "(1+ϵ)^20"
   ]
  },
  {
   "cell_type": "markdown",
   "metadata": {},
   "source": [
    "## Generalization to arbitrary roots"
   ]
  },
  {
   "cell_type": "code",
   "execution_count": 42,
   "metadata": {},
   "outputs": [
    {
     "data": {
      "text/plain": [
       "nthroot (generic function with 2 methods)"
      ]
     },
     "execution_count": 42,
     "metadata": {},
     "output_type": "execute_result"
    }
   ],
   "source": [
    "function nthroot(x, n=2; t=1, N = 10) \n",
    "    for i = 1:N;   t += (x/t^(n-1)-t)/n; end   \n",
    "    t\n",
    "end  "
   ]
  },
  {
   "cell_type": "code",
   "execution_count": 43,
   "metadata": {},
   "outputs": [
    {
     "data": {
      "text/plain": [
       "(1.2599210498948732, 1.2599210498948732)"
      ]
     },
     "execution_count": 43,
     "metadata": {},
     "output_type": "execute_result"
    }
   ],
   "source": [
    "nthroot(2,3), ∛2 # take a cube root"
   ]
  },
  {
   "cell_type": "code",
   "execution_count": 44,
   "metadata": {},
   "outputs": [
    {
     "data": {
      "text/plain": [
       "1.2599210498948732 + 0.20998684164914552 ϵ"
      ]
     },
     "execution_count": 44,
     "metadata": {},
     "output_type": "execute_result"
    }
   ],
   "source": [
    "nthroot(2+ϵ,3)"
   ]
  },
  {
   "cell_type": "code",
   "execution_count": 45,
   "metadata": {},
   "outputs": [
    {
     "data": {
      "text/plain": [
       "(1.1760474285795146, 1.1760474285795146)"
      ]
     },
     "execution_count": 45,
     "metadata": {},
     "output_type": "execute_result"
    }
   ],
   "source": [
    "nthroot(7,12), 7^(1/12)"
   ]
  },
  {
   "cell_type": "code",
   "execution_count": 46,
   "metadata": {},
   "outputs": [
    {
     "data": {
      "text/plain": [
       "(1.2599210498948732 + 0.20998684164914552 ϵ, 1.2599210498948732, 0.20998684164914552)"
      ]
     },
     "execution_count": 46,
     "metadata": {},
     "output_type": "execute_result"
    }
   ],
   "source": [
    "x = 2.0\n",
    "nthroot( x+ϵ,3), ∛x, 1/x^(2/3)/3"
   ]
  },
  {
   "cell_type": "code",
   "execution_count": 47,
   "metadata": {},
   "outputs": [
    {
     "data": {
      "text/plain": [
       "true"
      ]
     },
     "execution_count": 47,
     "metadata": {},
     "output_type": "execute_result"
    }
   ],
   "source": [
    "x+ϵ == D((x,1))"
   ]
  },
  {
   "cell_type": "markdown",
   "metadata": {},
   "source": [
    "## Forward Diff\n",
    "Now that you understand it, you can use the official package"
   ]
  },
  {
   "cell_type": "raw",
   "metadata": {},
   "source": [
    "Pkg.add(\"ForwardDiff\")"
   ]
  },
  {
   "cell_type": "code",
   "execution_count": 49,
   "metadata": {},
   "outputs": [
    {
     "name": "stderr",
     "output_type": "stream",
     "text": [
      "┌ Info: Precompiling ForwardDiff [f6369f11-7733-5829-9624-2563aa707210]\n",
      "└ @ Base loading.jl:1278\n"
     ]
    }
   ],
   "source": [
    "using ForwardDiff"
   ]
  },
  {
   "cell_type": "code",
   "execution_count": 50,
   "metadata": {},
   "outputs": [
    {
     "data": {
      "text/plain": [
       "0.35355339059327373"
      ]
     },
     "execution_count": 50,
     "metadata": {},
     "output_type": "execute_result"
    }
   ],
   "source": [
    "ForwardDiff.derivative(sqrt, 2)"
   ]
  },
  {
   "cell_type": "code",
   "execution_count": 51,
   "metadata": {},
   "outputs": [
    {
     "data": {
      "text/plain": [
       "0.35355339059327373"
      ]
     },
     "execution_count": 51,
     "metadata": {},
     "output_type": "execute_result"
    }
   ],
   "source": [
    "ForwardDiff.derivative(Babylonian, 2)"
   ]
  },
  {
   "cell_type": "code",
   "execution_count": 52,
   "metadata": {},
   "outputs": [
    {
     "data": {
      "text/plain": [
       "0.35355339059327373"
      ]
     },
     "execution_count": 52,
     "metadata": {},
     "output_type": "execute_result"
    }
   ],
   "source": [
    "Babylonian(D((2,1))).f[2]"
   ]
  },
  {
   "cell_type": "code",
   "execution_count": 53,
   "metadata": {},
   "outputs": [
    {
     "data": {
      "text/html": [
       "derivative(f::<b>F</b>, x::<b>R</b>)<i> where {F, R<:Real}</i> in ForwardDiff at <a href=\"file:///home/phunc20/.julia/packages/ForwardDiff/m7cm5/src/derivative.jl\" target=\"_blank\">/home/phunc20/.julia/packages/ForwardDiff/m7cm5/src/derivative.jl:12</a>"
      ],
      "text/plain": [
       "derivative(f::F, x::R) where {F, R<:Real} in ForwardDiff at /home/phunc20/.julia/packages/ForwardDiff/m7cm5/src/derivative.jl:12"
      ]
     },
     "execution_count": 53,
     "metadata": {},
     "output_type": "execute_result"
    }
   ],
   "source": [
    "@which ForwardDiff.derivative(sqrt, 2)"
   ]
  },
  {
   "cell_type": "code",
   "execution_count": null,
   "metadata": {},
   "outputs": [],
   "source": []
  },
  {
   "cell_type": "markdown",
   "metadata": {},
   "source": [
    "## Close Look at Convergence with big floats\n",
    "the $-\\log_{10} \\Delta t$ gives the number of correct digits.  Watch the quadratic convergence right before your eyes."
   ]
  },
  {
   "cell_type": "code",
   "execution_count": 54,
   "metadata": {},
   "outputs": [
    {
     "data": {
      "text/plain": [
       "10-element Array{Float64,1}:\n",
       "   -1.0665813663397075\n",
       "   -2.610283987399077\n",
       "   -5.672865645792784\n",
       "  -11.797276937315402\n",
       "  -24.046098868127267\n",
       "  -48.543742729750505\n",
       "  -97.53903045299698\n",
       " -195.52960589948992\n",
       " -391.51075679247583\n",
       " -783.4730585784476"
      ]
     },
     "execution_count": 54,
     "metadata": {},
     "output_type": "execute_result"
    }
   ],
   "source": [
    "setprecision(3000)\n",
    "Float64.(log10.([Babylonian(BigFloat(2),N=k) for k=1:10] .- √BigFloat(2)))"
   ]
  },
  {
   "cell_type": "code",
   "execution_count": 55,
   "metadata": {},
   "outputs": [
    {
     "name": "stdout",
     "output_type": "stream",
     "text": [
      "search: \u001b[0m\u001b[1mr\u001b[22m\u001b[0m\u001b[1mo\u001b[22m\u001b[0m\u001b[1mu\u001b[22m\u001b[0m\u001b[1mn\u001b[22m\u001b[0m\u001b[1md\u001b[22m \u001b[0m\u001b[1mr\u001b[22m\u001b[0m\u001b[1mo\u001b[22m\u001b[0m\u001b[1mu\u001b[22m\u001b[0m\u001b[1mn\u001b[22m\u001b[0m\u001b[1md\u001b[22ming \u001b[0m\u001b[1mR\u001b[22m\u001b[0m\u001b[1mo\u001b[22m\u001b[0m\u001b[1mu\u001b[22m\u001b[0m\u001b[1mn\u001b[22m\u001b[0m\u001b[1md\u001b[22mUp \u001b[0m\u001b[1mR\u001b[22m\u001b[0m\u001b[1mo\u001b[22m\u001b[0m\u001b[1mu\u001b[22m\u001b[0m\u001b[1mn\u001b[22m\u001b[0m\u001b[1md\u001b[22mDown \u001b[0m\u001b[1mR\u001b[22m\u001b[0m\u001b[1mo\u001b[22m\u001b[0m\u001b[1mu\u001b[22m\u001b[0m\u001b[1mn\u001b[22m\u001b[0m\u001b[1md\u001b[22mToZero \u001b[0m\u001b[1mR\u001b[22m\u001b[0m\u001b[1mo\u001b[22m\u001b[0m\u001b[1mu\u001b[22m\u001b[0m\u001b[1mn\u001b[22m\u001b[0m\u001b[1md\u001b[22mingMode \u001b[0m\u001b[1mR\u001b[22m\u001b[0m\u001b[1mo\u001b[22m\u001b[0m\u001b[1mu\u001b[22m\u001b[0m\u001b[1mn\u001b[22m\u001b[0m\u001b[1md\u001b[22mNearest\n",
      "\n"
     ]
    },
    {
     "data": {
      "text/latex": [
       "\\begin{verbatim}\n",
       "round(z::Complex[, RoundingModeReal, [RoundingModeImaginary]])\n",
       "round(z::Complex[, RoundingModeReal, [RoundingModeImaginary]]; digits=, base=10)\n",
       "round(z::Complex[, RoundingModeReal, [RoundingModeImaginary]]; sigdigits=, base=10)\n",
       "\\end{verbatim}\n",
       "Return the nearest integral value of the same type as the complex-valued \\texttt{z} to \\texttt{z}, breaking ties using the specified \\href{@ref}{\\texttt{RoundingMode}}s. The first \\href{@ref}{\\texttt{RoundingMode}} is used for rounding the real components while the second is used for rounding the imaginary components.\n",
       "\n",
       "\\section{Example}\n",
       "\\begin{verbatim}\n",
       "julia> round(3.14 + 4.5im)\n",
       "3.0 + 4.0im\n",
       "\\end{verbatim}\n",
       "\\rule{\\textwidth}{1pt}\n",
       "\\begin{verbatim}\n",
       "round([T,] x, [r::RoundingMode])\n",
       "round(x, [r::RoundingMode]; digits::Integer=0, base = 10)\n",
       "round(x, [r::RoundingMode]; sigdigits::Integer, base = 10)\n",
       "\\end{verbatim}\n",
       "Rounds the number \\texttt{x}.\n",
       "\n",
       "Without keyword arguments, \\texttt{x} is rounded to an integer value, returning a value of type \\texttt{T}, or of the same type of \\texttt{x} if no \\texttt{T} is provided. An \\href{@ref}{\\texttt{InexactError}} will be thrown if the value is not representable by \\texttt{T}, similar to \\href{@ref}{\\texttt{convert}}.\n",
       "\n",
       "If the \\texttt{digits} keyword argument is provided, it rounds to the specified number of digits after the decimal place (or before if negative), in base \\texttt{base}.\n",
       "\n",
       "If the \\texttt{sigdigits} keyword argument is provided, it rounds to the specified number of significant digits, in base \\texttt{base}.\n",
       "\n",
       "The \\href{@ref}{\\texttt{RoundingMode}} \\texttt{r} controls the direction of the rounding; the default is \\href{@ref}{\\texttt{RoundNearest}}, which rounds to the nearest integer, with ties (fractional values of 0.5) being rounded to the nearest even integer. Note that \\texttt{round} may give incorrect results if the global rounding mode is changed (see \\href{@ref}{\\texttt{rounding}}).\n",
       "\n",
       "\\section{Examples}\n",
       "\\begin{verbatim}\n",
       "julia> round(1.7)\n",
       "2.0\n",
       "\n",
       "julia> round(Int, 1.7)\n",
       "2\n",
       "\n",
       "julia> round(1.5)\n",
       "2.0\n",
       "\n",
       "julia> round(2.5)\n",
       "2.0\n",
       "\n",
       "julia> round(pi; digits=2)\n",
       "3.14\n",
       "\n",
       "julia> round(pi; digits=3, base=2)\n",
       "3.125\n",
       "\n",
       "julia> round(123.456; sigdigits=2)\n",
       "120.0\n",
       "\n",
       "julia> round(357.913; sigdigits=4, base=2)\n",
       "352.0\n",
       "\\end{verbatim}\n",
       "\\begin{quote}\n",
       "\\textbf{note}\n",
       "\n",
       "Note\n",
       "\n",
       "Rounding to specified digits in bases other than 2 can be inexact when operating on binary floating point numbers. For example, the \\href{@ref}{\\texttt{Float64}} value represented by \\texttt{1.15} is actually \\emph{less} than 1.15, yet will be rounded to 1.2.\n",
       "\n",
       "\\section{Examples}\n",
       "\\begin{verbatim}\n",
       "julia> x = 1.15\n",
       "1.15\n",
       "\n",
       "julia> @sprintf \"%.20f\" x\n",
       "\"1.14999999999999991118\"\n",
       "\n",
       "julia> x < 115//100\n",
       "true\n",
       "\n",
       "julia> round(x, digits=1)\n",
       "1.2\n",
       "\\end{verbatim}\n",
       "\\end{quote}\n",
       "\\section{Extensions}\n",
       "To extend \\texttt{round} to new numeric types, it is typically sufficient to define \\texttt{Base.round(x::NewType, r::RoundingMode)}.\n",
       "\n",
       "\\rule{\\textwidth}{1pt}\n",
       "\\begin{verbatim}\n",
       "round(dt::TimeType, p::Period, [r::RoundingMode]) -> TimeType\n",
       "\\end{verbatim}\n",
       "Return the \\texttt{Date} or \\texttt{DateTime} nearest to \\texttt{dt} at resolution \\texttt{p}. By default (\\texttt{RoundNearestTiesUp}), ties (e.g., rounding 9:30 to the nearest hour) will be rounded up.\n",
       "\n",
       "For convenience, \\texttt{p} may be a type instead of a value: \\texttt{round(dt, Dates.Hour)} is a shortcut for \\texttt{round(dt, Dates.Hour(1))}.\n",
       "\n",
       "\\begin{verbatim}\n",
       "julia> round(Date(1985, 8, 16), Dates.Month)\n",
       "1985-08-01\n",
       "\n",
       "julia> round(DateTime(2013, 2, 13, 0, 31, 20), Dates.Minute(15))\n",
       "2013-02-13T00:30:00\n",
       "\n",
       "julia> round(DateTime(2016, 8, 6, 12, 0, 0), Dates.Day)\n",
       "2016-08-07T00:00:00\n",
       "\\end{verbatim}\n",
       "Valid rounding modes for \\texttt{round(::TimeType, ::Period, ::RoundingMode)} are \\texttt{RoundNearestTiesUp} (default), \\texttt{RoundDown} (\\texttt{floor}), and \\texttt{RoundUp} (\\texttt{ceil}).\n",
       "\n",
       "\\rule{\\textwidth}{1pt}\n",
       "\\begin{verbatim}\n",
       "round(x::Period, precision::T, [r::RoundingMode]) where T <: Union{TimePeriod, Week, Day} -> T\n",
       "\\end{verbatim}\n",
       "Round \\texttt{x} to the nearest multiple of \\texttt{precision}. If \\texttt{x} and \\texttt{precision} are different subtypes of \\texttt{Period}, the return value will have the same type as \\texttt{precision}. By default (\\texttt{RoundNearestTiesUp}), ties (e.g., rounding 90 minutes to the nearest hour) will be rounded up.\n",
       "\n",
       "For convenience, \\texttt{precision} may be a type instead of a value: \\texttt{round(x, Dates.Hour)} is a shortcut for \\texttt{round(x, Dates.Hour(1))}.\n",
       "\n",
       "\\begin{verbatim}\n",
       "julia> round(Dates.Day(16), Dates.Week)\n",
       "2 weeks\n",
       "\n",
       "julia> round(Dates.Minute(44), Dates.Minute(15))\n",
       "45 minutes\n",
       "\n",
       "julia> round(Dates.Hour(36), Dates.Day)\n",
       "2 days\n",
       "\\end{verbatim}\n",
       "Valid rounding modes for \\texttt{round(::Period, ::T, ::RoundingMode)} are \\texttt{RoundNearestTiesUp} (default), \\texttt{RoundDown} (\\texttt{floor}), and \\texttt{RoundUp} (\\texttt{ceil}).\n",
       "\n",
       "Rounding to a \\texttt{precision} of \\texttt{Month}s or \\texttt{Year}s is not supported, as these \\texttt{Period}s are of inconsistent length.\n",
       "\n"
      ],
      "text/markdown": [
       "```\n",
       "round(z::Complex[, RoundingModeReal, [RoundingModeImaginary]])\n",
       "round(z::Complex[, RoundingModeReal, [RoundingModeImaginary]]; digits=, base=10)\n",
       "round(z::Complex[, RoundingModeReal, [RoundingModeImaginary]]; sigdigits=, base=10)\n",
       "```\n",
       "\n",
       "Return the nearest integral value of the same type as the complex-valued `z` to `z`, breaking ties using the specified [`RoundingMode`](@ref)s. The first [`RoundingMode`](@ref) is used for rounding the real components while the second is used for rounding the imaginary components.\n",
       "\n",
       "# Example\n",
       "\n",
       "```jldoctest\n",
       "julia> round(3.14 + 4.5im)\n",
       "3.0 + 4.0im\n",
       "```\n",
       "\n",
       "---\n",
       "\n",
       "```\n",
       "round([T,] x, [r::RoundingMode])\n",
       "round(x, [r::RoundingMode]; digits::Integer=0, base = 10)\n",
       "round(x, [r::RoundingMode]; sigdigits::Integer, base = 10)\n",
       "```\n",
       "\n",
       "Rounds the number `x`.\n",
       "\n",
       "Without keyword arguments, `x` is rounded to an integer value, returning a value of type `T`, or of the same type of `x` if no `T` is provided. An [`InexactError`](@ref) will be thrown if the value is not representable by `T`, similar to [`convert`](@ref).\n",
       "\n",
       "If the `digits` keyword argument is provided, it rounds to the specified number of digits after the decimal place (or before if negative), in base `base`.\n",
       "\n",
       "If the `sigdigits` keyword argument is provided, it rounds to the specified number of significant digits, in base `base`.\n",
       "\n",
       "The [`RoundingMode`](@ref) `r` controls the direction of the rounding; the default is [`RoundNearest`](@ref), which rounds to the nearest integer, with ties (fractional values of 0.5) being rounded to the nearest even integer. Note that `round` may give incorrect results if the global rounding mode is changed (see [`rounding`](@ref)).\n",
       "\n",
       "# Examples\n",
       "\n",
       "```jldoctest\n",
       "julia> round(1.7)\n",
       "2.0\n",
       "\n",
       "julia> round(Int, 1.7)\n",
       "2\n",
       "\n",
       "julia> round(1.5)\n",
       "2.0\n",
       "\n",
       "julia> round(2.5)\n",
       "2.0\n",
       "\n",
       "julia> round(pi; digits=2)\n",
       "3.14\n",
       "\n",
       "julia> round(pi; digits=3, base=2)\n",
       "3.125\n",
       "\n",
       "julia> round(123.456; sigdigits=2)\n",
       "120.0\n",
       "\n",
       "julia> round(357.913; sigdigits=4, base=2)\n",
       "352.0\n",
       "```\n",
       "\n",
       "!!! note\n",
       "    Rounding to specified digits in bases other than 2 can be inexact when operating on binary floating point numbers. For example, the [`Float64`](@ref) value represented by `1.15` is actually *less* than 1.15, yet will be rounded to 1.2.\n",
       "\n",
       "    # Examples\n",
       "\n",
       "    ```jldoctest; setup = :(using Printf)\n",
       "    julia> x = 1.15\n",
       "    1.15\n",
       "\n",
       "    julia> @sprintf \"%.20f\" x\n",
       "    \"1.14999999999999991118\"\n",
       "\n",
       "    julia> x < 115//100\n",
       "    true\n",
       "\n",
       "    julia> round(x, digits=1)\n",
       "    1.2\n",
       "    ```\n",
       "\n",
       "\n",
       "# Extensions\n",
       "\n",
       "To extend `round` to new numeric types, it is typically sufficient to define `Base.round(x::NewType, r::RoundingMode)`.\n",
       "\n",
       "---\n",
       "\n",
       "```\n",
       "round(dt::TimeType, p::Period, [r::RoundingMode]) -> TimeType\n",
       "```\n",
       "\n",
       "Return the `Date` or `DateTime` nearest to `dt` at resolution `p`. By default (`RoundNearestTiesUp`), ties (e.g., rounding 9:30 to the nearest hour) will be rounded up.\n",
       "\n",
       "For convenience, `p` may be a type instead of a value: `round(dt, Dates.Hour)` is a shortcut for `round(dt, Dates.Hour(1))`.\n",
       "\n",
       "```jldoctest\n",
       "julia> round(Date(1985, 8, 16), Dates.Month)\n",
       "1985-08-01\n",
       "\n",
       "julia> round(DateTime(2013, 2, 13, 0, 31, 20), Dates.Minute(15))\n",
       "2013-02-13T00:30:00\n",
       "\n",
       "julia> round(DateTime(2016, 8, 6, 12, 0, 0), Dates.Day)\n",
       "2016-08-07T00:00:00\n",
       "```\n",
       "\n",
       "Valid rounding modes for `round(::TimeType, ::Period, ::RoundingMode)` are `RoundNearestTiesUp` (default), `RoundDown` (`floor`), and `RoundUp` (`ceil`).\n",
       "\n",
       "---\n",
       "\n",
       "```\n",
       "round(x::Period, precision::T, [r::RoundingMode]) where T <: Union{TimePeriod, Week, Day} -> T\n",
       "```\n",
       "\n",
       "Round `x` to the nearest multiple of `precision`. If `x` and `precision` are different subtypes of `Period`, the return value will have the same type as `precision`. By default (`RoundNearestTiesUp`), ties (e.g., rounding 90 minutes to the nearest hour) will be rounded up.\n",
       "\n",
       "For convenience, `precision` may be a type instead of a value: `round(x, Dates.Hour)` is a shortcut for `round(x, Dates.Hour(1))`.\n",
       "\n",
       "```jldoctest\n",
       "julia> round(Dates.Day(16), Dates.Week)\n",
       "2 weeks\n",
       "\n",
       "julia> round(Dates.Minute(44), Dates.Minute(15))\n",
       "45 minutes\n",
       "\n",
       "julia> round(Dates.Hour(36), Dates.Day)\n",
       "2 days\n",
       "```\n",
       "\n",
       "Valid rounding modes for `round(::Period, ::T, ::RoundingMode)` are `RoundNearestTiesUp` (default), `RoundDown` (`floor`), and `RoundUp` (`ceil`).\n",
       "\n",
       "Rounding to a `precision` of `Month`s or `Year`s is not supported, as these `Period`s are of inconsistent length.\n"
      ],
      "text/plain": [
       "\u001b[36m  round(z::Complex[, RoundingModeReal, [RoundingModeImaginary]])\u001b[39m\n",
       "\u001b[36m  round(z::Complex[, RoundingModeReal, [RoundingModeImaginary]]; digits=, base=10)\u001b[39m\n",
       "\u001b[36m  round(z::Complex[, RoundingModeReal, [RoundingModeImaginary]]; sigdigits=, base=10)\u001b[39m\n",
       "\n",
       "  Return the nearest integral value of the same type as the complex-valued \u001b[36mz\u001b[39m\n",
       "  to \u001b[36mz\u001b[39m, breaking ties using the specified \u001b[36mRoundingMode\u001b[39ms. The first\n",
       "  \u001b[36mRoundingMode\u001b[39m is used for rounding the real components while the second is\n",
       "  used for rounding the imaginary components.\n",
       "\n",
       "\u001b[1m  Example\u001b[22m\n",
       "\u001b[1m  ≡≡≡≡≡≡≡≡≡\u001b[22m\n",
       "\n",
       "\u001b[36m  julia> round(3.14 + 4.5im)\u001b[39m\n",
       "\u001b[36m  3.0 + 4.0im\u001b[39m\n",
       "\n",
       "  ────────────────────────────────────────────────────────────────────────────\n",
       "\n",
       "\u001b[36m  round([T,] x, [r::RoundingMode])\u001b[39m\n",
       "\u001b[36m  round(x, [r::RoundingMode]; digits::Integer=0, base = 10)\u001b[39m\n",
       "\u001b[36m  round(x, [r::RoundingMode]; sigdigits::Integer, base = 10)\u001b[39m\n",
       "\n",
       "  Rounds the number \u001b[36mx\u001b[39m.\n",
       "\n",
       "  Without keyword arguments, \u001b[36mx\u001b[39m is rounded to an integer value, returning a\n",
       "  value of type \u001b[36mT\u001b[39m, or of the same type of \u001b[36mx\u001b[39m if no \u001b[36mT\u001b[39m is provided. An\n",
       "  \u001b[36mInexactError\u001b[39m will be thrown if the value is not representable by \u001b[36mT\u001b[39m, similar\n",
       "  to \u001b[36mconvert\u001b[39m.\n",
       "\n",
       "  If the \u001b[36mdigits\u001b[39m keyword argument is provided, it rounds to the specified\n",
       "  number of digits after the decimal place (or before if negative), in base\n",
       "  \u001b[36mbase\u001b[39m.\n",
       "\n",
       "  If the \u001b[36msigdigits\u001b[39m keyword argument is provided, it rounds to the specified\n",
       "  number of significant digits, in base \u001b[36mbase\u001b[39m.\n",
       "\n",
       "  The \u001b[36mRoundingMode\u001b[39m \u001b[36mr\u001b[39m controls the direction of the rounding; the default is\n",
       "  \u001b[36mRoundNearest\u001b[39m, which rounds to the nearest integer, with ties (fractional\n",
       "  values of 0.5) being rounded to the nearest even integer. Note that \u001b[36mround\u001b[39m\n",
       "  may give incorrect results if the global rounding mode is changed (see\n",
       "  \u001b[36mrounding\u001b[39m).\n",
       "\n",
       "\u001b[1m  Examples\u001b[22m\n",
       "\u001b[1m  ≡≡≡≡≡≡≡≡≡≡\u001b[22m\n",
       "\n",
       "\u001b[36m  julia> round(1.7)\u001b[39m\n",
       "\u001b[36m  2.0\u001b[39m\n",
       "\u001b[36m  \u001b[39m\n",
       "\u001b[36m  julia> round(Int, 1.7)\u001b[39m\n",
       "\u001b[36m  2\u001b[39m\n",
       "\u001b[36m  \u001b[39m\n",
       "\u001b[36m  julia> round(1.5)\u001b[39m\n",
       "\u001b[36m  2.0\u001b[39m\n",
       "\u001b[36m  \u001b[39m\n",
       "\u001b[36m  julia> round(2.5)\u001b[39m\n",
       "\u001b[36m  2.0\u001b[39m\n",
       "\u001b[36m  \u001b[39m\n",
       "\u001b[36m  julia> round(pi; digits=2)\u001b[39m\n",
       "\u001b[36m  3.14\u001b[39m\n",
       "\u001b[36m  \u001b[39m\n",
       "\u001b[36m  julia> round(pi; digits=3, base=2)\u001b[39m\n",
       "\u001b[36m  3.125\u001b[39m\n",
       "\u001b[36m  \u001b[39m\n",
       "\u001b[36m  julia> round(123.456; sigdigits=2)\u001b[39m\n",
       "\u001b[36m  120.0\u001b[39m\n",
       "\u001b[36m  \u001b[39m\n",
       "\u001b[36m  julia> round(357.913; sigdigits=4, base=2)\u001b[39m\n",
       "\u001b[36m  352.0\u001b[39m\n",
       "\n",
       "\u001b[36m\u001b[1m  │ \u001b[22m\u001b[39m\u001b[36m\u001b[1mNote\u001b[22m\u001b[39m\n",
       "\u001b[36m\u001b[1m  │\u001b[22m\u001b[39m\n",
       "\u001b[36m\u001b[1m  │\u001b[22m\u001b[39m  Rounding to specified digits in bases other than 2 can be inexact\n",
       "\u001b[36m\u001b[1m  │\u001b[22m\u001b[39m  when operating on binary floating point numbers. For example, the\n",
       "\u001b[36m\u001b[1m  │\u001b[22m\u001b[39m  \u001b[36mFloat64\u001b[39m value represented by \u001b[36m1.15\u001b[39m is actually \u001b[4mless\u001b[24m than 1.15, yet\n",
       "\u001b[36m\u001b[1m  │\u001b[22m\u001b[39m  will be rounded to 1.2.\n",
       "\u001b[36m\u001b[1m  │\u001b[22m\u001b[39m\n",
       "\u001b[36m\u001b[1m  │\u001b[22m\u001b[39m\u001b[1m  Examples\u001b[22m\n",
       "\u001b[36m\u001b[1m  │\u001b[22m\u001b[39m\u001b[1m  ≡≡≡≡≡≡≡≡≡≡\u001b[22m\n",
       "\u001b[36m\u001b[1m  │\u001b[22m\u001b[39m\n",
       "\u001b[36m\u001b[1m  │\u001b[22m\u001b[39m\u001b[36m  julia> x = 1.15\u001b[39m\n",
       "\u001b[36m\u001b[1m  │\u001b[22m\u001b[39m\u001b[36m  1.15\u001b[39m\n",
       "\u001b[36m\u001b[1m  │\u001b[22m\u001b[39m\u001b[36m  \u001b[39m\n",
       "\u001b[36m\u001b[1m  │\u001b[22m\u001b[39m\u001b[36m  julia> @sprintf \"%.20f\" x\u001b[39m\n",
       "\u001b[36m\u001b[1m  │\u001b[22m\u001b[39m\u001b[36m  \"1.14999999999999991118\"\u001b[39m\n",
       "\u001b[36m\u001b[1m  │\u001b[22m\u001b[39m\u001b[36m  \u001b[39m\n",
       "\u001b[36m\u001b[1m  │\u001b[22m\u001b[39m\u001b[36m  julia> x < 115//100\u001b[39m\n",
       "\u001b[36m\u001b[1m  │\u001b[22m\u001b[39m\u001b[36m  true\u001b[39m\n",
       "\u001b[36m\u001b[1m  │\u001b[22m\u001b[39m\u001b[36m  \u001b[39m\n",
       "\u001b[36m\u001b[1m  │\u001b[22m\u001b[39m\u001b[36m  julia> round(x, digits=1)\u001b[39m\n",
       "\u001b[36m\u001b[1m  │\u001b[22m\u001b[39m\u001b[36m  1.2\u001b[39m\n",
       "\n",
       "\u001b[1m  Extensions\u001b[22m\n",
       "\u001b[1m  ≡≡≡≡≡≡≡≡≡≡≡≡\u001b[22m\n",
       "\n",
       "  To extend \u001b[36mround\u001b[39m to new numeric types, it is typically sufficient to define\n",
       "  \u001b[36mBase.round(x::NewType, r::RoundingMode)\u001b[39m.\n",
       "\n",
       "  ────────────────────────────────────────────────────────────────────────────\n",
       "\n",
       "\u001b[36m  round(dt::TimeType, p::Period, [r::RoundingMode]) -> TimeType\u001b[39m\n",
       "\n",
       "  Return the \u001b[36mDate\u001b[39m or \u001b[36mDateTime\u001b[39m nearest to \u001b[36mdt\u001b[39m at resolution \u001b[36mp\u001b[39m. By default\n",
       "  (\u001b[36mRoundNearestTiesUp\u001b[39m), ties (e.g., rounding 9:30 to the nearest hour) will be\n",
       "  rounded up.\n",
       "\n",
       "  For convenience, \u001b[36mp\u001b[39m may be a type instead of a value: \u001b[36mround(dt, Dates.Hour)\u001b[39m\n",
       "  is a shortcut for \u001b[36mround(dt, Dates.Hour(1))\u001b[39m.\n",
       "\n",
       "\u001b[36m  julia> round(Date(1985, 8, 16), Dates.Month)\u001b[39m\n",
       "\u001b[36m  1985-08-01\u001b[39m\n",
       "\u001b[36m  \u001b[39m\n",
       "\u001b[36m  julia> round(DateTime(2013, 2, 13, 0, 31, 20), Dates.Minute(15))\u001b[39m\n",
       "\u001b[36m  2013-02-13T00:30:00\u001b[39m\n",
       "\u001b[36m  \u001b[39m\n",
       "\u001b[36m  julia> round(DateTime(2016, 8, 6, 12, 0, 0), Dates.Day)\u001b[39m\n",
       "\u001b[36m  2016-08-07T00:00:00\u001b[39m\n",
       "\n",
       "  Valid rounding modes for \u001b[36mround(::TimeType, ::Period, ::RoundingMode)\u001b[39m are\n",
       "  \u001b[36mRoundNearestTiesUp\u001b[39m (default), \u001b[36mRoundDown\u001b[39m (\u001b[36mfloor\u001b[39m), and \u001b[36mRoundUp\u001b[39m (\u001b[36mceil\u001b[39m).\n",
       "\n",
       "  ────────────────────────────────────────────────────────────────────────────\n",
       "\n",
       "\u001b[36m  round(x::Period, precision::T, [r::RoundingMode]) where T <: Union{TimePeriod, Week, Day} -> T\u001b[39m\n",
       "\n",
       "  Round \u001b[36mx\u001b[39m to the nearest multiple of \u001b[36mprecision\u001b[39m. If \u001b[36mx\u001b[39m and \u001b[36mprecision\u001b[39m are\n",
       "  different subtypes of \u001b[36mPeriod\u001b[39m, the return value will have the same type as\n",
       "  \u001b[36mprecision\u001b[39m. By default (\u001b[36mRoundNearestTiesUp\u001b[39m), ties (e.g., rounding 90 minutes\n",
       "  to the nearest hour) will be rounded up.\n",
       "\n",
       "  For convenience, \u001b[36mprecision\u001b[39m may be a type instead of a value: \u001b[36mround(x,\n",
       "  Dates.Hour)\u001b[39m is a shortcut for \u001b[36mround(x, Dates.Hour(1))\u001b[39m.\n",
       "\n",
       "\u001b[36m  julia> round(Dates.Day(16), Dates.Week)\u001b[39m\n",
       "\u001b[36m  2 weeks\u001b[39m\n",
       "\u001b[36m  \u001b[39m\n",
       "\u001b[36m  julia> round(Dates.Minute(44), Dates.Minute(15))\u001b[39m\n",
       "\u001b[36m  45 minutes\u001b[39m\n",
       "\u001b[36m  \u001b[39m\n",
       "\u001b[36m  julia> round(Dates.Hour(36), Dates.Day)\u001b[39m\n",
       "\u001b[36m  2 days\u001b[39m\n",
       "\n",
       "  Valid rounding modes for \u001b[36mround(::Period, ::T, ::RoundingMode)\u001b[39m are\n",
       "  \u001b[36mRoundNearestTiesUp\u001b[39m (default), \u001b[36mRoundDown\u001b[39m (\u001b[36mfloor\u001b[39m), and \u001b[36mRoundUp\u001b[39m (\u001b[36mceil\u001b[39m).\n",
       "\n",
       "  Rounding to a \u001b[36mprecision\u001b[39m of \u001b[36mMonth\u001b[39ms or \u001b[36mYear\u001b[39ms is not supported, as these\n",
       "  \u001b[36mPeriod\u001b[39ms are of inconsistent length."
      ]
     },
     "execution_count": 55,
     "metadata": {},
     "output_type": "execute_result"
    }
   ],
   "source": [
    "?round"
   ]
  },
  {
   "cell_type": "code",
   "execution_count": 56,
   "metadata": {},
   "outputs": [
    {
     "data": {
      "text/plain": [
       "10-element Array{Float64,1}:\n",
       "   -1.067\n",
       "   -2.61\n",
       "   -5.673\n",
       "  -11.797\n",
       "  -24.046\n",
       "  -48.544\n",
       "  -97.539\n",
       " -195.53\n",
       " -391.511\n",
       " -783.473"
      ]
     },
     "execution_count": 56,
     "metadata": {},
     "output_type": "execute_result"
    }
   ],
   "source": [
    "setprecision(3000)\n",
    "#round.(Float64.(log10.([Babylonian(BigFloat(2),N=k) for k=1:10] .- √BigFloat(2))),3)\n",
    "round.(Float64.(log10.([Babylonian(BigFloat(2),N=k) for k=1:10] .- √BigFloat(2))),digits=3)"
   ]
  },
  {
   "cell_type": "markdown",
   "metadata": {},
   "source": [
    "**(?)** Why `\\sqrt BigFloat(2)` instead of `\\sqrt 2`? Does it matter?"
   ]
  },
  {
   "cell_type": "code",
   "execution_count": 95,
   "metadata": {},
   "outputs": [],
   "source": [
    "struct D1{T} <: Number  # D is a function-derivative pair\n",
    "    f::Tuple{T,T}\n",
    "end"
   ]
  },
  {
   "cell_type": "code",
   "execution_count": 96,
   "metadata": {},
   "outputs": [
    {
     "data": {
      "text/plain": [
       "D1{BigFloat}((2.0, 1.0))"
      ]
     },
     "execution_count": 96,
     "metadata": {},
     "output_type": "execute_result"
    }
   ],
   "source": [
    "z = D((2.0,1.0))\n",
    "z1 = D1((BigFloat(2.0),BigFloat(1.0)))"
   ]
  },
  {
   "cell_type": "code",
   "execution_count": 97,
   "metadata": {},
   "outputs": [
    {
     "data": {
      "text/plain": [
       "promote_rule (generic function with 160 methods)"
      ]
     },
     "execution_count": 97,
     "metadata": {},
     "output_type": "execute_result"
    }
   ],
   "source": [
    "import Base: +, /, convert, promote_rule\n",
    "+(x::D1, y::D1) = D1(x.f .+ y.f)\n",
    "/(x::D1, y::D1) = D1((x.f[1]/y.f[1], (y.f[1]*x.f[2] - x.f[1]*y.f[2])/y.f[1]^2))\n",
    "convert(::Type{D1{T}}, x::Real) where {T} = D1((convert(T, x), zero(T)))\n",
    "promote_rule(::Type{D1{T}}, ::Type{S}) where {T,S<:Number} = D1{promote_type(T,S)}"
   ]
  },
  {
   "cell_type": "markdown",
   "metadata": {},
   "source": [
    "**(?)** Why define additionally this `D1` thing and the seemingly redundant `+, /, convert, promote_rule`?"
   ]
  },
  {
   "cell_type": "code",
   "execution_count": 64,
   "metadata": {},
   "outputs": [
    {
     "data": {
      "text/plain": [
       "3×3 Array{Float64,2}:\n",
       " 0.832856  -1.66678   0.446673\n",
       " 1.82869    2.17166  -0.149357\n",
       " 0.431754   1.24945  -1.46358"
      ]
     },
     "execution_count": 64,
     "metadata": {},
     "output_type": "execute_result"
    }
   ],
   "source": [
    "A = randn(3,3)"
   ]
  },
  {
   "cell_type": "code",
   "execution_count": 60,
   "metadata": {},
   "outputs": [
    {
     "data": {
      "text/plain": [
       "3-element Array{Float64,1}:\n",
       "  0.17874772549648885\n",
       " -0.7424719869048871\n",
       " -0.018209429442481086"
      ]
     },
     "execution_count": 60,
     "metadata": {},
     "output_type": "execute_result"
    }
   ],
   "source": [
    "x = randn(3)"
   ]
  },
  {
   "cell_type": "code",
   "execution_count": 100,
   "metadata": {},
   "outputs": [
    {
     "data": {
      "text/plain": [
       "3-element Array{Float64,1}:\n",
       " -2.3083962423970785\n",
       " -2.5880816452286717\n",
       "  5.52159279827821"
      ]
     },
     "execution_count": 100,
     "metadata": {},
     "output_type": "execute_result"
    }
   ],
   "source": [
    "ForwardDiff.gradient(x->x'A*x,x)"
   ]
  },
  {
   "cell_type": "code",
   "execution_count": 101,
   "metadata": {},
   "outputs": [
    {
     "data": {
      "text/plain": [
       "3-element Array{Float64,1}:\n",
       " -2.3083962423970785\n",
       " -2.5880816452286717\n",
       "  5.52159279827821"
      ]
     },
     "execution_count": 101,
     "metadata": {},
     "output_type": "execute_result"
    }
   ],
   "source": [
    "(A+A')*x"
   ]
  },
  {
   "cell_type": "markdown",
   "metadata": {},
   "source": [
    "**(?)** Can you explain the differential being $(A + A^{T})\\,x$?<br>\n",
    "**(R)** For reasons why `(A+A')*x` can be used to verify `ForwardDiff.gradient(x->x'A*x,x)`, cf. `./differential_review.ipynb`"
   ]
  },
  {
   "cell_type": "code",
   "execution_count": 113,
   "metadata": {},
   "outputs": [
    {
     "data": {
      "text/plain": [
       "4×4 SymTridiagonal{Float64,Array{Float64,1}}:\n",
       "  2.0  -1.0    ⋅     ⋅ \n",
       " -1.0   2.0  -1.0    ⋅ \n",
       "   ⋅   -1.0   2.0  -1.0\n",
       "   ⋅     ⋅   -1.0   2.0"
      ]
     },
     "execution_count": 113,
     "metadata": {},
     "output_type": "execute_result"
    }
   ],
   "source": [
    "n = 4\n",
    "using LinearAlgebra\n",
    "Strang = SymTridiagonal(2*ones(n),-ones(n-1))"
   ]
  },
  {
   "cell_type": "code",
   "execution_count": 62,
   "metadata": {},
   "outputs": [
    {
     "data": {
      "text/plain": [
       "3-element Array{D,1}:\n",
       "   0.17874772549648885 + 1.0 ϵ\n",
       "   -0.7424719869048871 + 1.0 ϵ\n",
       " -0.018209429442481086 + 1.0 ϵ"
      ]
     },
     "execution_count": 62,
     "metadata": {},
     "output_type": "execute_result"
    }
   ],
   "source": [
    "x_dual = [D((t, 1)) for t in x]"
   ]
  },
  {
   "cell_type": "raw",
   "metadata": {},
   "source": [
    "x_dual'A*x_dual"
   ]
  },
  {
   "cell_type": "raw",
   "metadata": {},
   "source": [
    "MethodError: no method matching conj(::D)\n",
    "Closest candidates are:\n",
    "  conj(!Matched::Missing) at missing.jl:100\n",
    "  conj(!Matched::ForwardDiff.Dual) at /home/phunc20/.julia/packages/ForwardDiff/m7cm5/src/dual.jl:381\n",
    "  conj(!Matched::Real) at number.jl:167\n",
    "  ...\n",
    "\n",
    "Stacktrace:\n",
    " [1] dot(::D, ::D) at /buildworker/worker/package_linux64/build/usr/share/julia/stdlib/v1.5/LinearAlgebra/src/generic.jl:884\n",
    " [2] dot(::Array{D,1}, ::Array{D,1}) at /buildworker/worker/package_linux64/build/usr/share/julia/stdlib/v1.5/LinearAlgebra/src/generic.jl:894\n",
    " [3] *(::LinearAlgebra.Adjoint{Union{},Array{D,1}}, ::Array{D,1}) at /buildworker/worker/package_linux64/build/usr/share/julia/stdlib/v1.5/LinearAlgebra/src/adjtrans.jl:283\n",
    " [4] top-level scope at In[65]:1\n",
    " [5] include_string(::Function, ::Module, ::String, ::String) at ./loading.jl:1091"
   ]
  },
  {
   "cell_type": "markdown",
   "metadata": {},
   "source": [
    "##  But wait there's more!"
   ]
  },
  {
   "cell_type": "markdown",
   "metadata": {},
   "source": [
    "Many packages need to be taught how to compute autodiffs of matrix factorications such as the svd or lu.  Julia will \"just do it,\" no\n",
    "teaching necessary for reasons such as the above.  This is illustrated in another notebook, not included here."
   ]
  },
  {
   "cell_type": "code",
   "execution_count": null,
   "metadata": {},
   "outputs": [],
   "source": []
  }
 ],
 "metadata": {
  "kernelspec": {
   "display_name": "Julia 1.5.3",
   "language": "julia",
   "name": "julia-1.5"
  },
  "language_info": {
   "file_extension": ".jl",
   "mimetype": "application/julia",
   "name": "julia",
   "version": "1.5.3"
  }
 },
 "nbformat": 4,
 "nbformat_minor": 2
}
