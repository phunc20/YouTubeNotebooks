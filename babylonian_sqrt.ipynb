{
 "cells": [
  {
   "cell_type": "code",
   "execution_count": 12,
   "metadata": {},
   "outputs": [
    {
     "name": "stderr",
     "output_type": "stream",
     "text": [
      "\u001b[32m\u001b[1m Activating\u001b[22m\u001b[39m environment at `~/.config/julia/projects/oft/Project.toml`\n"
     ]
    }
   ],
   "source": [
    "]activate ~/.config/julia/projects/oft"
   ]
  },
  {
   "cell_type": "markdown",
   "metadata": {},
   "source": [
    "## Babylonian sqrt\n",
    "> Repeat $ t \\leftarrow  (t+x/t) / 2 $ until $t$ converges to $\\sqrt{x}$.\n",
    " \n",
    "This notebook is to make the Babylonian square root algorithm less mytical, if ever it seems. Recall our questions from `Automatic Differentiation in 10 Minutes.ipynb`:\n",
    "\n",
    "> **(?1)** Questions about Babylonian sqrt.\n",
    ">\n",
    "> - Why this Babylonian iteration converges to sqrt(x)?\n",
    "> - Does it matter to start with `t=1`?\n",
    "\n",
    "**(R1)** Actually, it was answered in the original YouTube video and is quite straight-forward: This Babylonian iteration converges because at every iteration, be it `t > √x` or `t <= √x`,\n",
    "`x` will always lie in between `t` and `x/t`. That is, among `t` and `x/t`, one is greater\n",
    "than `x`, the other less than `x`. We then take the midpoint of the two, and proceed to the\n",
    "next iteration. Convergence is expected."
   ]
  },
  {
   "cell_type": "code",
   "execution_count": 13,
   "metadata": {},
   "outputs": [
    {
     "data": {
      "text/plain": [
       "babylonian (generic function with 1 method)"
      ]
     },
     "execution_count": 13,
     "metadata": {},
     "output_type": "execute_result"
    }
   ],
   "source": [
    "function babylonian(x; t=1, N=10)\n",
    "    for i = 1:N; t = (t + x/t)/2  end    \n",
    "    t\n",
    "end  "
   ]
  },
  {
   "cell_type": "markdown",
   "metadata": {},
   "source": [
    "Check that it works:"
   ]
  },
  {
   "cell_type": "code",
   "execution_count": 14,
   "metadata": {},
   "outputs": [
    {
     "data": {
      "text/plain": [
       "(1.7724538509055159, 1.7724538509055159)"
      ]
     },
     "execution_count": 14,
     "metadata": {},
     "output_type": "execute_result"
    }
   ],
   "source": [
    "α = π\n",
    "babylonian(α), √α    "
   ]
  },
  {
   "cell_type": "code",
   "execution_count": 15,
   "metadata": {},
   "outputs": [
    {
     "data": {
      "text/plain": [
       "(1.7724538509055165, 9.871657258137894, -1.7724538509055165)"
      ]
     },
     "execution_count": 15,
     "metadata": {},
     "output_type": "execute_result"
    }
   ],
   "source": [
    "babylonian(α, t=100), babylonian(α, t=9999), babylonian(α, t=-100) "
   ]
  },
  {
   "cell_type": "code",
   "execution_count": 16,
   "metadata": {},
   "outputs": [
    {
     "name": "stdout",
     "output_type": "stream",
     "text": [
      "1.7724538509055159\n",
      "1.7724538509055165\n",
      "1.8690126833827456\n",
      "9.872623166568108\n"
     ]
    }
   ],
   "source": [
    "for t₀ in [10,100,1000,10_000]\n",
    "    println(babylonian(α, t=t₀))\n",
    "end"
   ]
  },
  {
   "cell_type": "code",
   "execution_count": 17,
   "metadata": {},
   "outputs": [
    {
     "data": {
      "text/plain": [
       "(9.872623166568108, 1.7724538509055159, 1.7724538509055159)"
      ]
     },
     "execution_count": 17,
     "metadata": {},
     "output_type": "execute_result"
    }
   ],
   "source": [
    "babylonian(α, t=10_000), babylonian(α, t=10_000, N=50), √α"
   ]
  },
  {
   "cell_type": "markdown",
   "metadata": {},
   "source": [
    "So, according to the above experiments, the starting value of `t` matters a little bit, in the way that\n",
    "- if the starting value is **positive**, then **the greater** it (i.e. `t0` above) is, **the more** iterations (i.e. `N`) it requires **to reach the same level of convergence**.\n",
    "- if the starting value is **negative**, then the result will converge to $-\\sqrt{x}$."
   ]
  },
  {
   "cell_type": "code",
   "execution_count": null,
   "metadata": {},
   "outputs": [],
   "source": []
  },
  {
   "cell_type": "code",
   "execution_count": null,
   "metadata": {},
   "outputs": [],
   "source": []
  },
  {
   "cell_type": "markdown",
   "metadata": {},
   "source": [
    "**(?1)** Can this Babylonian function have a recursive definition? Tail-recursive?"
   ]
  },
  {
   "cell_type": "code",
   "execution_count": null,
   "metadata": {},
   "outputs": [],
   "source": []
  },
  {
   "cell_type": "code",
   "execution_count": null,
   "metadata": {},
   "outputs": [],
   "source": []
  },
  {
   "cell_type": "code",
   "execution_count": null,
   "metadata": {},
   "outputs": [],
   "source": []
  },
  {
   "cell_type": "code",
   "execution_count": 18,
   "metadata": {},
   "outputs": [
    {
     "ename": "LoadError",
     "evalue": "UndefVarError: Babylonian not defined",
     "output_type": "error",
     "traceback": [
      "UndefVarError: Babylonian not defined",
      "",
      "Stacktrace:",
      " [1] top-level scope at In[18]:1",
      " [2] include_string(::Function, ::Module, ::String, ::String) at ./loading.jl:1091"
     ]
    }
   ],
   "source": [
    "x=2; Babylonian(x),√x  # Type \\sqrt+<tab> to get the symbol"
   ]
  },
  {
   "cell_type": "code",
   "execution_count": null,
   "metadata": {},
   "outputs": [
    {
     "name": "stderr",
     "output_type": "stream",
     "text": [
      "┌ Info: Precompiling Plots [91a5bcdd-55d7-5caf-9e0b-520d859cae80]\n",
      "└ @ Base loading.jl:1278\n"
     ]
    }
   ],
   "source": [
    "# Pkg.add(plots)\n",
    "# Pkg.add(plotly)\n",
    "using Plots\n",
    "plotly()\n",
    "#gr()\n",
    "#pyplot()"
   ]
  },
  {
   "cell_type": "code",
   "execution_count": 10,
   "metadata": {},
   "outputs": [
    {
     "ename": "LoadError",
     "evalue": "UndefVarError: plot not defined",
     "output_type": "error",
     "traceback": [
      "UndefVarError: plot not defined",
      "",
      "Stacktrace:",
      " [1] top-level scope at In[10]:6",
      " [2] include_string(::Function, ::Module, ::String, ::String) at ./loading.jl:1091"
     ]
    }
   ],
   "source": [
    "## Warning first plots load packages, takes time\n",
    "i = 0:.01:49\n",
    "\n",
    "# Note the diff i's and their scopes\n",
    "#plot([x->Babylonian(x,N=i) for i=1:5],i,label=[\"Iteration $j\" for i=1:1,j=1:5])\n",
    "plot([x->Babylonian(x,N=i) for i=1:5],i,label=[\"Iteration $j\" for j=1:5])\n",
    "\n",
    "plot!(sqrt,i,c=\"black\",label=\"sqrt\",\n",
    "      title=\"Those Babylonians really knew how to √\")"
   ]
  },
  {
   "cell_type": "markdown",
   "metadata": {},
   "source": [
    "**(?1)**\n",
    "Why this Babylonian iteration converges to `sqrt(x)`?"
   ]
  },
  {
   "cell_type": "markdown",
   "metadata": {},
   "source": [
    "## ...and now the derivative, almost by magic"
   ]
  },
  {
   "cell_type": "markdown",
   "metadata": {},
   "source": [
    "Eight lines of Julia!\n",
    "- No mention of $\\frac{1}{2} x^{-\\frac{1}{2}}$.\n",
    "- `D` for \"**dual number**\", invented by the famous algebraist Clifford in 1873."
   ]
  },
  {
   "cell_type": "code",
   "execution_count": 26,
   "metadata": {},
   "outputs": [],
   "source": [
    "struct D <: Number  # D is a function-derivative pair\n",
    "    f::Tuple{Float64,Float64}\n",
    "end"
   ]
  },
  {
   "cell_type": "markdown",
   "metadata": {},
   "source": [
    "Sum Rule: (x+y)' = x' + y' <br>\n",
    "Quotient Rule: (x/y)' = (yx'-xy') / y^2"
   ]
  },
  {
   "cell_type": "code",
   "execution_count": 40,
   "metadata": {},
   "outputs": [
    {
     "data": {
      "text/plain": [
       "promote_rule (generic function with 148 methods)"
      ]
     },
     "execution_count": 40,
     "metadata": {},
     "output_type": "execute_result"
    }
   ],
   "source": [
    "import Base: +, /, convert, promote_rule\n",
    "+(x::D, y::D) = D(x.f .+ y.f)\n",
    "/(x::D, y::D) = D((x.f[1]/y.f[1], (y.f[1]*x.f[2] - x.f[1]*y.f[2])/y.f[1]^2))\n",
    "convert(::Type{D}, x::Real) = D((x,zero(x)))  # derivative of a constant\n",
    "promote_rule(::Type{D}, ::Type{<:Number}) = D"
   ]
  },
  {
   "cell_type": "markdown",
   "metadata": {},
   "source": [
    "For any given `D`, its `f` will store\n",
    "- `f[1]`: some function $u$\n",
    "- `f[2]`: the derivative $u'$"
   ]
  },
  {
   "cell_type": "code",
   "execution_count": 34,
   "metadata": {},
   "outputs": [
    {
     "ename": "LoadError",
     "evalue": "MethodError: no method matching Type(::Type{D})",
     "output_type": "error",
     "traceback": [
      "MethodError: no method matching Type(::Type{D})",
      "",
      "Stacktrace:",
      " [1] top-level scope at In[34]:1",
      " [2] include_string(::Function, ::Module, ::String, ::String) at ./loading.jl:1091",
      " [3] execute_code(::String, ::String) at /home/phunc20/.julia/packages/IJulia/a1SNk/src/execute_request.jl:27",
      " [4] execute_request(::ZMQ.Socket, ::IJulia.Msg) at /home/phunc20/.julia/packages/IJulia/a1SNk/src/execute_request.jl:86",
      " [5] #invokelatest#1 at ./essentials.jl:710 [inlined]",
      " [6] invokelatest at ./essentials.jl:709 [inlined]",
      " [7] eventloop(::ZMQ.Socket) at /home/phunc20/.julia/packages/IJulia/a1SNk/src/eventloop.jl:8",
      " [8] (::IJulia.var\"#15#18\")() at ./task.jl:356"
     ]
    }
   ],
   "source": [
    "Type(D)"
   ]
  },
  {
   "cell_type": "code",
   "execution_count": 31,
   "metadata": {},
   "outputs": [
    {
     "ename": "LoadError",
     "evalue": "MethodError: no method matching Type(::Type{Number})",
     "output_type": "error",
     "traceback": [
      "MethodError: no method matching Type(::Type{Number})",
      "",
      "Stacktrace:",
      " [1] top-level scope at In[31]:1",
      " [2] include_string(::Function, ::Module, ::String, ::String) at ./loading.jl:1091",
      " [3] execute_code(::String, ::String) at /home/phunc20/.julia/packages/IJulia/a1SNk/src/execute_request.jl:27",
      " [4] execute_request(::ZMQ.Socket, ::IJulia.Msg) at /home/phunc20/.julia/packages/IJulia/a1SNk/src/execute_request.jl:86",
      " [5] #invokelatest#1 at ./essentials.jl:710 [inlined]",
      " [6] invokelatest at ./essentials.jl:709 [inlined]",
      " [7] eventloop(::ZMQ.Socket) at /home/phunc20/.julia/packages/IJulia/a1SNk/src/eventloop.jl:8",
      " [8] (::IJulia.var\"#15#18\")() at ./task.jl:356"
     ]
    }
   ],
   "source": [
    "Type(Number)"
   ]
  },
  {
   "cell_type": "markdown",
   "metadata": {},
   "source": [
    "**curly brackets** `Type{}`, not **parentheses** `Type()`."
   ]
  },
  {
   "cell_type": "code",
   "execution_count": 32,
   "metadata": {},
   "outputs": [
    {
     "data": {
      "text/plain": [
       "Type{D}"
      ]
     },
     "execution_count": 32,
     "metadata": {},
     "output_type": "execute_result"
    }
   ],
   "source": [
    "Type{D}"
   ]
  },
  {
   "cell_type": "code",
   "execution_count": 33,
   "metadata": {},
   "outputs": [
    {
     "data": {
      "text/plain": [
       "Type{Number}"
      ]
     },
     "execution_count": 33,
     "metadata": {},
     "output_type": "execute_result"
    }
   ],
   "source": [
    "Type{Number}"
   ]
  },
  {
   "cell_type": "markdown",
   "metadata": {},
   "source": [
    "What is `zero(x)` when `x` is a `Real`?"
   ]
  },
  {
   "cell_type": "code",
   "execution_count": 36,
   "metadata": {},
   "outputs": [
    {
     "data": {
      "text/plain": [
       "2.71828"
      ]
     },
     "execution_count": 36,
     "metadata": {},
     "output_type": "execute_result"
    }
   ],
   "source": [
    "x = 2.71828"
   ]
  },
  {
   "cell_type": "code",
   "execution_count": 37,
   "metadata": {},
   "outputs": [
    {
     "data": {
      "text/plain": [
       "0.0"
      ]
     },
     "execution_count": 37,
     "metadata": {},
     "output_type": "execute_result"
    }
   ],
   "source": [
    "zero(x)"
   ]
  },
  {
   "cell_type": "markdown",
   "metadata": {},
   "source": [
    "The same algorithm with no rewrite at all computes properly\n",
    "the derivative as the check shows."
   ]
  },
  {
   "cell_type": "code",
   "execution_count": 41,
   "metadata": {},
   "outputs": [
    {
     "data": {
      "text/plain": [
       "(D((7.0, 0.07142857142857142)), (7.0, 0.07142857142857142))"
      ]
     },
     "execution_count": 41,
     "metadata": {},
     "output_type": "execute_result"
    }
   ],
   "source": [
    "x=49; Babylonian(D((x,1))), (√x,.5/√x)"
   ]
  },
  {
   "cell_type": "code",
   "execution_count": 42,
   "metadata": {},
   "outputs": [
    {
     "data": {
      "text/plain": [
       "(D((1.7724538509055159, 0.28209479177387814)), (1.7724538509055159, 0.28209479177387814))"
      ]
     },
     "execution_count": 42,
     "metadata": {},
     "output_type": "execute_result"
    }
   ],
   "source": [
    "x=π; Babylonian(D((x,1))), (√x,.5/√x)"
   ]
  },
  {
   "cell_type": "code",
   "execution_count": 43,
   "metadata": {},
   "outputs": [
    {
     "data": {
      "text/plain": [
       "\"bbb\""
      ]
     },
     "execution_count": 43,
     "metadata": {},
     "output_type": "execute_result"
    }
   ],
   "source": [
    "aaa = \"aaa\"\n",
    "bbb = \"bbb\""
   ]
  },
  {
   "cell_type": "markdown",
   "metadata": {},
   "source": [
    "**Unlike `Pluto`**, in Jupyter notebook, to write a multi-line code cell we **don't need** to write `begin ... end`"
   ]
  },
  {
   "cell_type": "markdown",
   "metadata": {},
   "source": [
    "## It just works!\n",
    "\n",
    "How does it work?  We will explain in a moment.  Right now marvel that it does.  Note we did not\n",
    "import any autodiff package.  Everything is just basic vanilla Julia."
   ]
  },
  {
   "cell_type": "markdown",
   "metadata": {},
   "source": [
    "## The assembler\n",
    "\n",
    "Most folks don't read assembler, but one can see that it is short.\n",
    "The shortness is a clue that suggests speed!"
   ]
  },
  {
   "cell_type": "code",
   "execution_count": 44,
   "metadata": {},
   "outputs": [
    {
     "name": "stdout",
     "output_type": "stream",
     "text": [
      "\t.text\n",
      "; ┌ @ In[44]:1 within `Babylonian'\n",
      "\tmovq\t%rdi, %rax\n",
      "; │ @ In[44]:2 within `Babylonian'\n",
      "; │┌ @ In[44]:2 within `#Babylonian#32'\n",
      "; ││┌ @ promotion.jl:311 within `+' @ In[40]:2\n",
      "; │││┌ @ broadcast.jl:837 within `materialize'\n",
      "; ││││┌ @ broadcast.jl:1046 within `copy'\n",
      "; │││││┌ @ ntuple.jl:42 within `ntuple'\n",
      "; ││││││┌ @ broadcast.jl:1046 within `#19'\n",
      "; │││││││┌ @ broadcast.jl:621 within `_broadcast_getindex'\n",
      "; ││││││││┌ @ broadcast.jl:648 within `_broadcast_getindex_evalf'\n",
      "; │││││││││┌ @ float.jl:401 within `+'\n",
      "\tvmovsd\t(%rsi), %xmm1           # xmm1 = mem[0],zero\n",
      "\tmovabsq\t$.rodata.cst8, %rcx\n",
      "\tvaddsd\t(%rcx), %xmm1, %xmm4\n",
      "\tvmovsd\t8(%rsi), %xmm2          # xmm2 = mem[0],zero\n",
      "\tvxorpd\t%xmm8, %xmm8, %xmm8\n",
      "\tvaddsd\t%xmm8, %xmm2, %xmm5\n",
      "\tmovabsq\t$140175471296264, %rcx  # imm = 0x7F7D252C3F08\n",
      "\tvmovsd\t(%rcx), %xmm3           # xmm3 = mem[0],zero\n",
      "; ││└└└└└└└└\n",
      "; ││┌ @ promotion.jl:314 within `/' @ In[40]:3 @ float.jl:407\n",
      "\tvmulsd\t%xmm3, %xmm4, %xmm6\n",
      "; │││ @ promotion.jl:314 within `/' @ In[40]:3\n",
      "; │││┌ @ float.jl:405 within `*'\n",
      "\tvaddsd\t%xmm5, %xmm5, %xmm5\n",
      "\tvmulsd\t%xmm8, %xmm4, %xmm4\n",
      "; │││└\n",
      "; │││┌ @ float.jl:403 within `-'\n",
      "\tvsubsd\t%xmm4, %xmm5, %xmm5\n",
      "\tmovabsq\t$140175471296272, %rcx  # imm = 0x7F7D252C3F10\n",
      "\tvmovsd\t(%rcx), %xmm4           # xmm4 = mem[0],zero\n",
      "; │││└\n",
      "; │││ @ promotion.jl:314 within `/' @ In[40]:3 @ float.jl:407\n",
      "\tvmulsd\t%xmm4, %xmm5, %xmm5\n",
      "; ││└\n",
      "; ││ @ In[44]:3 within `#Babylonian#32'\n",
      "; ││┌ @ In[40]:3 within `/' @ float.jl:407\n",
      "\tvdivsd\t%xmm6, %xmm1, %xmm9\n",
      "; │││ @ In[40]:3 within `/'\n",
      "; │││┌ @ float.jl:405 within `*'\n",
      "\tvmulsd\t%xmm2, %xmm6, %xmm0\n",
      "\tvmulsd\t%xmm1, %xmm5, %xmm7\n",
      "; │││└\n",
      "; │││┌ @ float.jl:403 within `-'\n",
      "\tvsubsd\t%xmm7, %xmm0, %xmm0\n",
      "; │││└\n",
      "; │││┌ @ intfuncs.jl:296 within `literal_pow'\n",
      "; ││││┌ @ float.jl:405 within `*'\n",
      "\tvmulsd\t%xmm6, %xmm6, %xmm7\n",
      "; │││└└\n",
      "; │││ @ In[40]:3 within `/' @ float.jl:407\n",
      "\tvdivsd\t%xmm7, %xmm0, %xmm0\n",
      "; ││└\n",
      "; ││┌ @ In[40]:2 within `+'\n",
      "; │││┌ @ broadcast.jl:837 within `materialize'\n",
      "; ││││┌ @ broadcast.jl:1046 within `copy'\n",
      "; │││││┌ @ ntuple.jl:42 within `ntuple'\n",
      "; ││││││┌ @ broadcast.jl:1046 within `#19'\n",
      "; │││││││┌ @ broadcast.jl:621 within `_broadcast_getindex'\n",
      "; ││││││││┌ @ broadcast.jl:648 within `_broadcast_getindex_evalf'\n",
      "; │││││││││┌ @ float.jl:401 within `+'\n",
      "\tvaddsd\t%xmm9, %xmm6, %xmm6\n",
      "\tvaddsd\t%xmm0, %xmm5, %xmm0\n",
      "; ││└└└└└└└└\n",
      "; ││┌ @ promotion.jl:314 within `/' @ In[40]:3 @ float.jl:407\n",
      "\tvmulsd\t%xmm3, %xmm6, %xmm5\n",
      "; │││ @ promotion.jl:314 within `/' @ In[40]:3\n",
      "; │││┌ @ float.jl:405 within `*'\n",
      "\tvaddsd\t%xmm0, %xmm0, %xmm0\n",
      "\tvmulsd\t%xmm8, %xmm6, %xmm6\n",
      "; │││└\n",
      "; │││┌ @ float.jl:403 within `-'\n",
      "\tvsubsd\t%xmm6, %xmm0, %xmm0\n",
      "; │││└\n",
      "; │││ @ promotion.jl:314 within `/' @ In[40]:3 @ float.jl:407\n",
      "\tvmulsd\t%xmm4, %xmm0, %xmm0\n",
      "; ││└\n",
      "; ││┌ @ In[40]:3 within `/' @ float.jl:407\n",
      "\tvdivsd\t%xmm5, %xmm1, %xmm9\n",
      "; │││ @ In[40]:3 within `/'\n",
      "; │││┌ @ float.jl:405 within `*'\n",
      "\tvmulsd\t%xmm2, %xmm5, %xmm7\n",
      "\tvmulsd\t%xmm1, %xmm0, %xmm6\n",
      "; │││└\n",
      "; │││┌ @ float.jl:403 within `-'\n",
      "\tvsubsd\t%xmm6, %xmm7, %xmm6\n",
      "; │││└\n",
      "; │││┌ @ intfuncs.jl:296 within `literal_pow'\n",
      "; ││││┌ @ float.jl:405 within `*'\n",
      "\tvmulsd\t%xmm5, %xmm5, %xmm7\n",
      "; │││└└\n",
      "; │││ @ In[40]:3 within `/' @ float.jl:407\n",
      "\tvdivsd\t%xmm7, %xmm6, %xmm6\n",
      "; ││└\n",
      "; ││┌ @ In[40]:2 within `+'\n",
      "; │││┌ @ broadcast.jl:837 within `materialize'\n",
      "; ││││┌ @ broadcast.jl:1046 within `copy'\n",
      "; │││││┌ @ ntuple.jl:42 within `ntuple'\n",
      "; ││││││┌ @ broadcast.jl:1046 within `#19'\n",
      "; │││││││┌ @ broadcast.jl:621 within `_broadcast_getindex'\n",
      "; ││││││││┌ @ broadcast.jl:648 within `_broadcast_getindex_evalf'\n",
      "; │││││││││┌ @ float.jl:401 within `+'\n",
      "\tvaddsd\t%xmm9, %xmm5, %xmm5\n",
      "\tvaddsd\t%xmm6, %xmm0, %xmm0\n",
      "; ││└└└└└└└└\n",
      "; ││┌ @ promotion.jl:314 within `/' @ In[40]:3 @ float.jl:407\n",
      "\tvmulsd\t%xmm3, %xmm5, %xmm6\n",
      "; │││ @ promotion.jl:314 within `/' @ In[40]:3\n",
      "; │││┌ @ float.jl:405 within `*'\n",
      "\tvaddsd\t%xmm0, %xmm0, %xmm0\n",
      "\tvmulsd\t%xmm8, %xmm5, %xmm5\n",
      "; │││└\n",
      "; │││┌ @ float.jl:403 within `-'\n",
      "\tvsubsd\t%xmm5, %xmm0, %xmm0\n",
      "; │││└\n",
      "; │││ @ promotion.jl:314 within `/' @ In[40]:3 @ float.jl:407\n",
      "\tvmulsd\t%xmm4, %xmm0, %xmm0\n",
      "; ││└\n",
      "; ││┌ @ In[40]:3 within `/' @ float.jl:407\n",
      "\tvdivsd\t%xmm6, %xmm1, %xmm9\n",
      "; │││ @ In[40]:3 within `/'\n",
      "; │││┌ @ float.jl:405 within `*'\n",
      "\tvmulsd\t%xmm2, %xmm6, %xmm7\n",
      "\tvmulsd\t%xmm1, %xmm0, %xmm5\n",
      "; │││└\n",
      "; │││┌ @ float.jl:403 within `-'\n",
      "\tvsubsd\t%xmm5, %xmm7, %xmm5\n",
      "; │││└\n",
      "; │││┌ @ intfuncs.jl:296 within `literal_pow'\n",
      "; ││││┌ @ float.jl:405 within `*'\n",
      "\tvmulsd\t%xmm6, %xmm6, %xmm7\n",
      "; │││└└\n",
      "; │││ @ In[40]:3 within `/' @ float.jl:407\n",
      "\tvdivsd\t%xmm7, %xmm5, %xmm5\n",
      "; ││└\n",
      "; ││┌ @ In[40]:2 within `+'\n",
      "; │││┌ @ broadcast.jl:837 within `materialize'\n",
      "; ││││┌ @ broadcast.jl:1046 within `copy'\n",
      "; │││││┌ @ ntuple.jl:42 within `ntuple'\n",
      "; ││││││┌ @ broadcast.jl:1046 within `#19'\n",
      "; │││││││┌ @ broadcast.jl:621 within `_broadcast_getindex'\n",
      "; ││││││││┌ @ broadcast.jl:648 within `_broadcast_getindex_evalf'\n",
      "; │││││││││┌ @ float.jl:401 within `+'\n",
      "\tvaddsd\t%xmm9, %xmm6, %xmm6\n",
      "\tvaddsd\t%xmm5, %xmm0, %xmm0\n",
      "; ││└└└└└└└└\n",
      "; ││┌ @ promotion.jl:314 within `/' @ In[40]:3 @ float.jl:407\n",
      "\tvmulsd\t%xmm3, %xmm6, %xmm5\n",
      "; │││ @ promotion.jl:314 within `/' @ In[40]:3\n",
      "; │││┌ @ float.jl:405 within `*'\n",
      "\tvaddsd\t%xmm0, %xmm0, %xmm0\n",
      "\tvmulsd\t%xmm8, %xmm6, %xmm6\n",
      "; │││└\n",
      "; │││┌ @ float.jl:403 within `-'\n",
      "\tvsubsd\t%xmm6, %xmm0, %xmm0\n",
      "; │││└\n",
      "; │││ @ promotion.jl:314 within `/' @ In[40]:3 @ float.jl:407\n",
      "\tvmulsd\t%xmm4, %xmm0, %xmm0\n",
      "; ││└\n",
      "; ││┌ @ In[40]:3 within `/' @ float.jl:407\n",
      "\tvdivsd\t%xmm5, %xmm1, %xmm9\n",
      "; │││ @ In[40]:3 within `/'\n",
      "; │││┌ @ float.jl:405 within `*'\n",
      "\tvmulsd\t%xmm2, %xmm5, %xmm7\n",
      "\tvmulsd\t%xmm1, %xmm0, %xmm6\n",
      "; │││└\n",
      "; │││┌ @ float.jl:403 within `-'\n",
      "\tvsubsd\t%xmm6, %xmm7, %xmm6\n",
      "; │││└\n",
      "; │││┌ @ intfuncs.jl:296 within `literal_pow'\n",
      "; ││││┌ @ float.jl:405 within `*'\n",
      "\tvmulsd\t%xmm5, %xmm5, %xmm7\n",
      "; │││└└\n",
      "; │││ @ In[40]:3 within `/' @ float.jl:407\n",
      "\tvdivsd\t%xmm7, %xmm6, %xmm6\n",
      "; ││└\n",
      "; ││┌ @ In[40]:2 within `+'\n",
      "; │││┌ @ broadcast.jl:837 within `materialize'\n",
      "; ││││┌ @ broadcast.jl:1046 within `copy'\n",
      "; │││││┌ @ ntuple.jl:42 within `ntuple'\n",
      "; ││││││┌ @ broadcast.jl:1046 within `#19'\n",
      "; │││││││┌ @ broadcast.jl:621 within `_broadcast_getindex'\n",
      "; ││││││││┌ @ broadcast.jl:648 within `_broadcast_getindex_evalf'\n",
      "; │││││││││┌ @ float.jl:401 within `+'\n",
      "\tvaddsd\t%xmm9, %xmm5, %xmm5\n",
      "\tvaddsd\t%xmm6, %xmm0, %xmm0\n",
      "; ││└└└└└└└└\n",
      "; ││┌ @ promotion.jl:314 within `/' @ In[40]:3 @ float.jl:407\n",
      "\tvmulsd\t%xmm3, %xmm5, %xmm6\n",
      "; │││ @ promotion.jl:314 within `/' @ In[40]:3\n",
      "; │││┌ @ float.jl:405 within `*'\n",
      "\tvaddsd\t%xmm0, %xmm0, %xmm0\n",
      "\tvmulsd\t%xmm8, %xmm5, %xmm5\n",
      "; │││└\n",
      "; │││┌ @ float.jl:403 within `-'\n",
      "\tvsubsd\t%xmm5, %xmm0, %xmm0\n",
      "; │││└\n",
      "; │││ @ promotion.jl:314 within `/' @ In[40]:3 @ float.jl:407\n",
      "\tvmulsd\t%xmm4, %xmm0, %xmm0\n",
      "; ││└\n",
      "; ││┌ @ In[40]:3 within `/' @ float.jl:407\n",
      "\tvdivsd\t%xmm6, %xmm1, %xmm9\n",
      "; │││ @ In[40]:3 within `/'\n",
      "; │││┌ @ float.jl:405 within `*'\n",
      "\tvmulsd\t%xmm2, %xmm6, %xmm7\n",
      "\tvmulsd\t%xmm1, %xmm0, %xmm5\n",
      "; │││└\n",
      "; │││┌ @ float.jl:403 within `-'\n",
      "\tvsubsd\t%xmm5, %xmm7, %xmm5\n",
      "; │││└\n",
      "; │││┌ @ intfuncs.jl:296 within `literal_pow'\n",
      "; ││││┌ @ float.jl:405 within `*'\n",
      "\tvmulsd\t%xmm6, %xmm6, %xmm7\n",
      "; │││└└\n",
      "; │││ @ In[40]:3 within `/' @ float.jl:407\n",
      "\tvdivsd\t%xmm7, %xmm5, %xmm5\n",
      "; ││└\n",
      "; ││┌ @ In[40]:2 within `+'\n",
      "; │││┌ @ broadcast.jl:837 within `materialize'\n",
      "; ││││┌ @ broadcast.jl:1046 within `copy'\n",
      "; │││││┌ @ ntuple.jl:42 within `ntuple'\n",
      "; ││││││┌ @ broadcast.jl:1046 within `#19'\n",
      "; │││││││┌ @ broadcast.jl:621 within `_broadcast_getindex'\n",
      "; ││││││││┌ @ broadcast.jl:648 within `_broadcast_getindex_evalf'\n",
      "; │││││││││┌ @ float.jl:401 within `+'\n",
      "\tvaddsd\t%xmm9, %xmm6, %xmm6\n",
      "\tvaddsd\t%xmm5, %xmm0, %xmm0\n",
      "; ││└└└└└└└└\n",
      "; ││┌ @ promotion.jl:314 within `/' @ In[40]:3 @ float.jl:407\n",
      "\tvmulsd\t%xmm3, %xmm6, %xmm5\n",
      "; │││ @ promotion.jl:314 within `/' @ In[40]:3\n",
      "; │││┌ @ float.jl:405 within `*'\n",
      "\tvaddsd\t%xmm0, %xmm0, %xmm0\n",
      "\tvmulsd\t%xmm8, %xmm6, %xmm6\n",
      "; │││└\n",
      "; │││┌ @ float.jl:403 within `-'\n",
      "\tvsubsd\t%xmm6, %xmm0, %xmm0\n",
      "; │││└\n",
      "; │││ @ promotion.jl:314 within `/' @ In[40]:3 @ float.jl:407\n",
      "\tvmulsd\t%xmm4, %xmm0, %xmm0\n",
      "; ││└\n",
      "; ││┌ @ In[40]:3 within `/' @ float.jl:407\n",
      "\tvdivsd\t%xmm5, %xmm1, %xmm9\n",
      "; │││ @ In[40]:3 within `/'\n",
      "; │││┌ @ float.jl:405 within `*'\n",
      "\tvmulsd\t%xmm2, %xmm5, %xmm7\n",
      "\tvmulsd\t%xmm1, %xmm0, %xmm6\n",
      "; │││└\n",
      "; │││┌ @ float.jl:403 within `-'\n",
      "\tvsubsd\t%xmm6, %xmm7, %xmm6\n",
      "; │││└\n",
      "; │││┌ @ intfuncs.jl:296 within `literal_pow'\n",
      "; ││││┌ @ float.jl:405 within `*'\n",
      "\tvmulsd\t%xmm5, %xmm5, %xmm7\n",
      "; │││└└\n",
      "; │││ @ In[40]:3 within `/' @ float.jl:407\n",
      "\tvdivsd\t%xmm7, %xmm6, %xmm6\n",
      "; ││└\n",
      "; ││┌ @ In[40]:2 within `+'\n",
      "; │││┌ @ broadcast.jl:837 within `materialize'\n",
      "; ││││┌ @ broadcast.jl:1046 within `copy'\n",
      "; │││││┌ @ ntuple.jl:42 within `ntuple'\n",
      "; ││││││┌ @ broadcast.jl:1046 within `#19'\n",
      "; │││││││┌ @ broadcast.jl:621 within `_broadcast_getindex'\n",
      "; ││││││││┌ @ broadcast.jl:648 within `_broadcast_getindex_evalf'\n",
      "; │││││││││┌ @ float.jl:401 within `+'\n",
      "\tvaddsd\t%xmm9, %xmm5, %xmm5\n",
      "\tvaddsd\t%xmm6, %xmm0, %xmm0\n",
      "; ││└└└└└└└└\n",
      "; ││┌ @ promotion.jl:314 within `/' @ In[40]:3 @ float.jl:407\n",
      "\tvmulsd\t%xmm3, %xmm5, %xmm6\n",
      "; │││ @ promotion.jl:314 within `/' @ In[40]:3\n",
      "; │││┌ @ float.jl:405 within `*'\n",
      "\tvaddsd\t%xmm0, %xmm0, %xmm0\n",
      "\tvmulsd\t%xmm8, %xmm5, %xmm5\n",
      "; │││└\n",
      "; │││┌ @ float.jl:403 within `-'\n",
      "\tvsubsd\t%xmm5, %xmm0, %xmm0\n",
      "; │││└\n",
      "; │││ @ promotion.jl:314 within `/' @ In[40]:3 @ float.jl:407\n",
      "\tvmulsd\t%xmm4, %xmm0, %xmm0\n",
      "; ││└\n",
      "; ││┌ @ In[40]:3 within `/' @ float.jl:407\n",
      "\tvdivsd\t%xmm6, %xmm1, %xmm9\n",
      "; │││ @ In[40]:3 within `/'\n",
      "; │││┌ @ float.jl:405 within `*'\n",
      "\tvmulsd\t%xmm2, %xmm6, %xmm7\n",
      "\tvmulsd\t%xmm1, %xmm0, %xmm5\n",
      "; │││└\n",
      "; │││┌ @ float.jl:403 within `-'\n",
      "\tvsubsd\t%xmm5, %xmm7, %xmm5\n",
      "; │││└\n",
      "; │││┌ @ intfuncs.jl:296 within `literal_pow'\n",
      "; ││││┌ @ float.jl:405 within `*'\n",
      "\tvmulsd\t%xmm6, %xmm6, %xmm7\n",
      "; │││└└\n",
      "; │││ @ In[40]:3 within `/' @ float.jl:407\n",
      "\tvdivsd\t%xmm7, %xmm5, %xmm5\n",
      "; ││└\n",
      "; ││┌ @ In[40]:2 within `+'\n",
      "; │││┌ @ broadcast.jl:837 within `materialize'\n",
      "; ││││┌ @ broadcast.jl:1046 within `copy'\n",
      "; │││││┌ @ ntuple.jl:42 within `ntuple'\n",
      "; ││││││┌ @ broadcast.jl:1046 within `#19'\n",
      "; │││││││┌ @ broadcast.jl:621 within `_broadcast_getindex'\n",
      "; ││││││││┌ @ broadcast.jl:648 within `_broadcast_getindex_evalf'\n",
      "; │││││││││┌ @ float.jl:401 within `+'\n",
      "\tvaddsd\t%xmm9, %xmm6, %xmm6\n",
      "\tvaddsd\t%xmm5, %xmm0, %xmm0\n",
      "; ││└└└└└└└└\n",
      "; ││┌ @ promotion.jl:314 within `/' @ In[40]:3 @ float.jl:407\n",
      "\tvmulsd\t%xmm3, %xmm6, %xmm5\n",
      "; │││ @ promotion.jl:314 within `/' @ In[40]:3\n",
      "; │││┌ @ float.jl:405 within `*'\n",
      "\tvaddsd\t%xmm0, %xmm0, %xmm0\n",
      "\tvmulsd\t%xmm8, %xmm6, %xmm6\n",
      "; │││└\n",
      "; │││┌ @ float.jl:403 within `-'\n",
      "\tvsubsd\t%xmm6, %xmm0, %xmm0\n",
      "; │││└\n",
      "; │││ @ promotion.jl:314 within `/' @ In[40]:3 @ float.jl:407\n",
      "\tvmulsd\t%xmm4, %xmm0, %xmm0\n",
      "; ││└\n",
      "; ││┌ @ In[40]:3 within `/' @ float.jl:407\n",
      "\tvdivsd\t%xmm5, %xmm1, %xmm9\n",
      "; │││ @ In[40]:3 within `/'\n",
      "; │││┌ @ float.jl:405 within `*'\n",
      "\tvmulsd\t%xmm2, %xmm5, %xmm7\n",
      "\tvmulsd\t%xmm1, %xmm0, %xmm6\n",
      "; │││└\n",
      "; │││┌ @ float.jl:403 within `-'\n",
      "\tvsubsd\t%xmm6, %xmm7, %xmm6\n",
      "; │││└\n",
      "; │││┌ @ intfuncs.jl:296 within `literal_pow'\n",
      "; ││││┌ @ float.jl:405 within `*'\n",
      "\tvmulsd\t%xmm5, %xmm5, %xmm7\n",
      "; │││└└\n",
      "; │││ @ In[40]:3 within `/' @ float.jl:407\n",
      "\tvdivsd\t%xmm7, %xmm6, %xmm6\n",
      "; ││└\n",
      "; ││┌ @ In[40]:2 within `+'\n",
      "; │││┌ @ broadcast.jl:837 within `materialize'\n",
      "; ││││┌ @ broadcast.jl:1046 within `copy'\n",
      "; │││││┌ @ ntuple.jl:42 within `ntuple'\n",
      "; ││││││┌ @ broadcast.jl:1046 within `#19'\n",
      "; │││││││┌ @ broadcast.jl:621 within `_broadcast_getindex'\n",
      "; ││││││││┌ @ broadcast.jl:648 within `_broadcast_getindex_evalf'\n",
      "; │││││││││┌ @ float.jl:401 within `+'\n",
      "\tvaddsd\t%xmm9, %xmm5, %xmm5\n",
      "\tvaddsd\t%xmm6, %xmm0, %xmm0\n",
      "; ││└└└└└└└└\n",
      "; ││┌ @ promotion.jl:314 within `/' @ In[40]:3 @ float.jl:407\n",
      "\tvmulsd\t%xmm3, %xmm5, %xmm3\n",
      "; │││ @ promotion.jl:314 within `/' @ In[40]:3\n",
      "; │││┌ @ float.jl:405 within `*'\n",
      "\tvaddsd\t%xmm0, %xmm0, %xmm0\n",
      "\tvmulsd\t%xmm8, %xmm5, %xmm5\n",
      "; │││└\n",
      "; │││┌ @ float.jl:403 within `-'\n",
      "\tvsubsd\t%xmm5, %xmm0, %xmm0\n",
      "; │││└\n",
      "; │││ @ promotion.jl:314 within `/' @ In[40]:3 @ float.jl:407\n",
      "\tvmulsd\t%xmm4, %xmm0, %xmm0\n",
      "; ││└\n",
      "; ││┌ @ In[40]:3 within `/' @ float.jl:407\n",
      "\tvdivsd\t%xmm3, %xmm1, %xmm4\n",
      "; │││ @ In[40]:3 within `/'\n",
      "; │││┌ @ float.jl:405 within `*'\n",
      "\tvmulsd\t%xmm2, %xmm3, %xmm2\n",
      "\tvmulsd\t%xmm1, %xmm0, %xmm1\n",
      "; │││└\n",
      "; │││┌ @ float.jl:403 within `-'\n",
      "\tvsubsd\t%xmm1, %xmm2, %xmm1\n",
      "; │││└\n",
      "; │││┌ @ intfuncs.jl:296 within `literal_pow'\n",
      "; ││││┌ @ float.jl:405 within `*'\n",
      "\tvmulsd\t%xmm3, %xmm3, %xmm2\n",
      "; │││└└\n",
      "; │││ @ In[40]:3 within `/' @ float.jl:407\n",
      "\tvdivsd\t%xmm2, %xmm1, %xmm1\n",
      "; ││└\n",
      "; ││┌ @ In[40]:2 within `+'\n",
      "; │││┌ @ broadcast.jl:837 within `materialize'\n",
      "; ││││┌ @ broadcast.jl:1046 within `copy'\n",
      "; │││││┌ @ ntuple.jl:42 within `ntuple'\n",
      "; ││││││┌ @ broadcast.jl:1046 within `#19'\n",
      "; │││││││┌ @ broadcast.jl:621 within `_broadcast_getindex'\n",
      "; ││││││││┌ @ broadcast.jl:648 within `_broadcast_getindex_evalf'\n",
      "; │││││││││┌ @ float.jl:401 within `+'\n",
      "\tvaddsd\t%xmm4, %xmm3, %xmm2\n",
      "\tvaddsd\t%xmm1, %xmm0, %xmm0\n",
      "; ││└└└└└└└└\n",
      "; ││┌ @ promotion.jl:314 within `/' @ In[40]:3\n",
      "; │││┌ @ float.jl:405 within `*'\n",
      "\tvaddsd\t%xmm0, %xmm0, %xmm0\n",
      "\tvmulsd\t%xmm8, %xmm2, %xmm1\n",
      "; │││└\n",
      "; │││┌ @ float.jl:403 within `-'\n",
      "\tvsubsd\t%xmm1, %xmm0, %xmm0\n",
      "; │││└\n",
      "; │││ @ promotion.jl:314 within `/' @ In[40]:3 @ float.jl:407\n",
      "\tvunpcklpd\t%xmm0, %xmm2, %xmm0 # xmm0 = xmm2[0],xmm0[0]\n",
      "\tmovabsq\t$.rodata.cst16, %rcx\n",
      "\tvmulpd\t(%rcx), %xmm0, %xmm0\n",
      "; │└└\n",
      "\tvmovupd\t%xmm0, (%rdi)\n",
      "\tretq\n",
      "\tnopl\t(%rax)\n",
      "; └\n"
     ]
    }
   ],
   "source": [
    "@inline function Babylonian(x; N = 10) \n",
    "    t = (1+x)/2\n",
    "    for i = 2:N; t=(t + x/t)/2  end    \n",
    "    t\n",
    "end  \n",
    "@code_native(Babylonian(D((2,1))))"
   ]
  },
  {
   "cell_type": "markdown",
   "metadata": {},
   "source": [
    "## Symbolically\n",
    "\n",
    "We haven't yet explained how it works, but it may be of some value to understand that the below is mathematically\n",
    "equivalent, though not what the computation is doing.\n",
    "\n",
    "Notice in the below that Babylonian works on SymPy symbols.\n",
    "\n",
    "Note: Python and Julia are good friends.  It's not a competition!  Watch how nicely we can use the same code now with SymPy."
   ]
  },
  {
   "cell_type": "code",
   "execution_count": 47,
   "metadata": {},
   "outputs": [],
   "source": [
    "using Pkg"
   ]
  },
  {
   "cell_type": "code",
   "execution_count": 49,
   "metadata": {},
   "outputs": [
    {
     "name": "stderr",
     "output_type": "stream",
     "text": [
      "\u001b[32m\u001b[1m  Resolving\u001b[22m\u001b[39m package versions...\n",
      "\u001b[32m\u001b[1m  Installed\u001b[22m\u001b[39m PyCall ─ v1.92.1\n",
      "\u001b[32m\u001b[1m  Installed\u001b[22m\u001b[39m SymPy ── v1.0.32\n",
      "\u001b[32m\u001b[1mUpdating\u001b[22m\u001b[39m `~/.julia/environments/v1.5/Project.toml`\n",
      " \u001b[90m [24249f21] \u001b[39m\u001b[92m+ SymPy v1.0.32\u001b[39m\n",
      "\u001b[32m\u001b[1mUpdating\u001b[22m\u001b[39m `~/.julia/environments/v1.5/Manifest.toml`\n",
      " \u001b[90m [438e738f] \u001b[39m\u001b[92m+ PyCall v1.92.1\u001b[39m\n",
      " \u001b[90m [24249f21] \u001b[39m\u001b[92m+ SymPy v1.0.32\u001b[39m\n",
      "\u001b[32m\u001b[1m   Building\u001b[22m\u001b[39m PyCall → `~/.julia/packages/PyCall/BcTLp/deps/build.log`\n",
      "┌ Info: Precompiling SymPy [24249f21-da20-56a4-8eb1-6a02cf4ae2e6]\n",
      "└ @ Base loading.jl:1278\n"
     ]
    },
    {
     "ename": "LoadError",
     "evalue": "InitError: PyError (PyImport_ImportModule\n\nThe Python package sympy could not be imported by pyimport. Usually this means\nthat you did not install sympy in the Python version being used by PyCall.\n\nPyCall is currently configured to use the Python version at:\n\n/home/phunc20/.julia/conda/3/bin/python3\n\nand you should use whatever mechanism you usually use (apt-get, pip, conda,\netcetera) to install the Python package containing the sympy module.\n\nOne alternative is to re-configure PyCall to use a different Python\nversion on your system: set ENV[\"PYTHON\"] to the path/name of the python\nexecutable you want to use, run Pkg.build(\"PyCall\"), and re-launch Julia.\n\nAnother alternative is to configure PyCall to use a Julia-specific Python\ndistribution via the Conda.jl package (which installs a private Anaconda\nPython distribution), which has the advantage that packages can be installed\nand kept up-to-date via Julia.  As explained in the PyCall documentation,\nset ENV[\"PYTHON\"]=\"\", run Pkg.build(\"PyCall\"), and re-launch Julia. Then,\nTo install the sympy module, you can use `pyimport_conda(\"sympy\", PKG)`,\nwhere PKG is the Anaconda package the contains the module sympy,\nor alternatively you can use the Conda package directly (via\n`using Conda` followed by `Conda.add` etcetera).\n\n) <class 'ModuleNotFoundError'>\nModuleNotFoundError(\"No module named 'sympy'\")\n\nduring initialization of module SymPy",
     "output_type": "error",
     "traceback": [
      "InitError: PyError (PyImport_ImportModule\n\nThe Python package sympy could not be imported by pyimport. Usually this means\nthat you did not install sympy in the Python version being used by PyCall.\n\nPyCall is currently configured to use the Python version at:\n\n/home/phunc20/.julia/conda/3/bin/python3\n\nand you should use whatever mechanism you usually use (apt-get, pip, conda,\netcetera) to install the Python package containing the sympy module.\n\nOne alternative is to re-configure PyCall to use a different Python\nversion on your system: set ENV[\"PYTHON\"] to the path/name of the python\nexecutable you want to use, run Pkg.build(\"PyCall\"), and re-launch Julia.\n\nAnother alternative is to configure PyCall to use a Julia-specific Python\ndistribution via the Conda.jl package (which installs a private Anaconda\nPython distribution), which has the advantage that packages can be installed\nand kept up-to-date via Julia.  As explained in the PyCall documentation,\nset ENV[\"PYTHON\"]=\"\", run Pkg.build(\"PyCall\"), and re-launch Julia. Then,\nTo install the sympy module, you can use `pyimport_conda(\"sympy\", PKG)`,\nwhere PKG is the Anaconda package the contains the module sympy,\nor alternatively you can use the Conda package directly (via\n`using Conda` followed by `Conda.add` etcetera).\n\n) <class 'ModuleNotFoundError'>\nModuleNotFoundError(\"No module named 'sympy'\")\n\nduring initialization of module SymPy",
      "",
      "Stacktrace:",
      " [1] pyimport(::String) at /home/phunc20/.julia/packages/PyCall/BcTLp/src/PyCall.jl:547",
      " [2] pyimport_conda(::String, ::String, ::String) at /home/phunc20/.julia/packages/PyCall/BcTLp/src/PyCall.jl:705",
      " [3] pyimport_conda at /home/phunc20/.julia/packages/PyCall/BcTLp/src/PyCall.jl:704 [inlined]",
      " [4] __init__() at /home/phunc20/.julia/packages/SymPy/ohjrt/src/SymPy.jl:118",
      " [5] _include_from_serialized(::String, ::Array{Any,1}) at ./loading.jl:697",
      " [6] _require_from_serialized(::String) at ./loading.jl:749",
      " [7] _require(::Base.PkgId) at ./loading.jl:1040",
      " [8] require(::Base.PkgId) at ./loading.jl:928",
      " [9] require(::Module, ::Symbol) at ./loading.jl:923",
      " [10] include_string(::Function, ::Module, ::String, ::String) at ./loading.jl:1091",
      " [11] execute_code(::String, ::String) at /home/phunc20/.julia/packages/IJulia/a1SNk/src/execute_request.jl:27",
      " [12] execute_request(::ZMQ.Socket, ::IJulia.Msg) at /home/phunc20/.julia/packages/IJulia/a1SNk/src/execute_request.jl:86",
      " [13] #invokelatest#1 at ./essentials.jl:710 [inlined]",
      " [14] invokelatest at ./essentials.jl:709 [inlined]",
      " [15] eventloop(::ZMQ.Socket) at /home/phunc20/.julia/packages/IJulia/a1SNk/src/eventloop.jl:8",
      " [16] (::IJulia.var\"#15#18\")() at ./task.jl:356"
     ]
    }
   ],
   "source": [
    "Pkg.add(\"SymPy\")\n",
    "using SymPy                "
   ]
  },
  {
   "cell_type": "code",
   "execution_count": null,
   "metadata": {},
   "outputs": [],
   "source": [
    "x = symbols(\"x\")\n",
    "display(\"Iterations as a function of x\")\n",
    "for k = 1:5\n",
    " display( simplify(Babylonian(x,N=k)))\n",
    "end\n",
    "\n",
    "display(\"Derivatives as a function of x\")\n",
    "for k = 1:5\n",
    " display(simplify(diff(simplify(Babylonian(x,N=k)),x)))\n",
    "end"
   ]
  },
  {
   "cell_type": "markdown",
   "metadata": {},
   "source": [
    "The code is computing answers mathematically equivalent to the functions above, but not symbolically, numerically. "
   ]
  },
  {
   "cell_type": "markdown",
   "metadata": {},
   "source": [
    "## How autodiff is getting the answer\n",
    "Let us by hand take the \"derivative\" of the Babylonian iteration with respect to x. Specifically t′=dt/dx.  This is the old fashioned way of a human rewriting code."
   ]
  },
  {
   "cell_type": "code",
   "execution_count": 50,
   "metadata": {},
   "outputs": [
    {
     "data": {
      "text/plain": [
       "dBabylonian (generic function with 1 method)"
      ]
     },
     "execution_count": 50,
     "metadata": {},
     "output_type": "execute_result"
    }
   ],
   "source": [
    "function dBabylonian(x; N = 10) \n",
    "    t = (1+x)/2\n",
    "    t′ = 1/2\n",
    "    for i = 1:N;  \n",
    "        t = (t+x/t)/2; \n",
    "        t′= (t′+(t-x*t′)/t^2)/2; \n",
    "    end    \n",
    "    t′\n",
    "\n",
    "end  "
   ]
  },
  {
   "cell_type": "markdown",
   "metadata": {},
   "source": [
    "See this rewritten code gets the right answer.  So the trick is for the computer system to do it for you, and without any loss of speed or convenience."
   ]
  },
  {
   "cell_type": "code",
   "execution_count": 51,
   "metadata": {},
   "outputs": [
    {
     "data": {
      "text/plain": [
       "(0.2820947917738782, 0.28209479177387814)"
      ]
     },
     "execution_count": 51,
     "metadata": {},
     "output_type": "execute_result"
    }
   ],
   "source": [
    "x = π; dBabylonian(x), .5/√x"
   ]
  },
  {
   "cell_type": "markdown",
   "metadata": {},
   "source": [
    "What just happened?  Answer: We created an iteration by hand for t′ given our iteration for t. Then we ran the iteration alongside the iteration for t."
   ]
  },
  {
   "cell_type": "code",
   "execution_count": null,
   "metadata": {},
   "outputs": [],
   "source": [
    "Babylonian(D((x,1)))"
   ]
  },
  {
   "cell_type": "markdown",
   "metadata": {},
   "source": [
    "How did this work?  It created the same derivative iteration that we did by hand, using very general rules that are set once and need not be written by hand."
   ]
  },
  {
   "cell_type": "markdown",
   "metadata": {},
   "source": [
    "Important:: The derivative is substituted before the JIT compiler, and thus efficient compiled code is executed."
   ]
  },
  {
   "cell_type": "markdown",
   "metadata": {},
   "source": [
    "## Dual Number Notation\n",
    "\n",
    "Instead of D(a,b) we can write a + b ϵ, where ϵ satisfies ϵ^2=0.  (Some people like to recall imaginary numbers where an i is introduced with i^2=-1.) \n",
    "\n",
    "Others like to think of how engineers just drop the O(ϵ^2) terms.\n",
    "\n",
    "The four rules are\n",
    "\n",
    "$ (a+b\\epsilon) \\pm (c+d\\epsilon) = (a+c) \\pm (b+d)\\epsilon$\n",
    "\n",
    "$ (a+b\\epsilon) * (c+d\\epsilon) = (ac) + (bc+ad)\\epsilon$\n",
    "\n",
    "$ (a+b\\epsilon) / (c+d\\epsilon) = (a/c) + (bc-ad)/d^2 \\epsilon $\n"
   ]
  },
  {
   "cell_type": "code",
   "execution_count": null,
   "metadata": {},
   "outputs": [],
   "source": [
    "Base.show(io::IO,x::D) = print(io,x.f[1],\" + \",x.f[2],\" ϵ\")"
   ]
  },
  {
   "cell_type": "code",
   "execution_count": null,
   "metadata": {},
   "outputs": [],
   "source": [
    "# Add the last two rules\n",
    "import Base: -,*\n",
    "-(x::D, y::D) = D(x.f .- y.f)\n",
    "*(x::D, y::D) = D((x.f[1]*y.f[1], (x.f[2]*y.f[1] + x.f[1]*y.f[2])))"
   ]
  },
  {
   "cell_type": "code",
   "execution_count": null,
   "metadata": {},
   "outputs": [],
   "source": [
    "D((1,0))"
   ]
  },
  {
   "cell_type": "code",
   "execution_count": null,
   "metadata": {},
   "outputs": [],
   "source": [
    "D((0,1))^2"
   ]
  },
  {
   "cell_type": "code",
   "execution_count": null,
   "metadata": {},
   "outputs": [],
   "source": [
    "D((2,1)) ^2"
   ]
  },
  {
   "cell_type": "code",
   "execution_count": null,
   "metadata": {},
   "outputs": [],
   "source": [
    "ϵ = D((0,1))\n",
    "@code_native(ϵ^2)"
   ]
  },
  {
   "cell_type": "code",
   "execution_count": null,
   "metadata": {},
   "outputs": [],
   "source": [
    "ϵ * ϵ "
   ]
  },
  {
   "cell_type": "code",
   "execution_count": null,
   "metadata": {},
   "outputs": [],
   "source": [
    "ϵ^2"
   ]
  },
  {
   "cell_type": "code",
   "execution_count": null,
   "metadata": {},
   "outputs": [],
   "source": [
    "1/(1+ϵ)  # Exact power series:  1-ϵ+ϵ²-ϵ³-..."
   ]
  },
  {
   "cell_type": "code",
   "execution_count": null,
   "metadata": {},
   "outputs": [],
   "source": [
    "(1+ϵ)^5 ## Note this just works (we didn't train powers)!!"
   ]
  },
  {
   "cell_type": "markdown",
   "metadata": {},
   "source": [
    "## Generalization to arbitrary roots"
   ]
  },
  {
   "cell_type": "code",
   "execution_count": null,
   "metadata": {},
   "outputs": [],
   "source": [
    "function nthroot(x, n=2; t=1, N = 10) \n",
    "    for i = 1:N;   t += (x/t^(n-1)-t)/n; end   \n",
    "    t\n",
    "end  "
   ]
  },
  {
   "cell_type": "code",
   "execution_count": null,
   "metadata": {},
   "outputs": [],
   "source": [
    "nthroot(2,3), ∛2 # take a cube root"
   ]
  },
  {
   "cell_type": "code",
   "execution_count": null,
   "metadata": {},
   "outputs": [],
   "source": [
    "nthroot(2+ϵ,3)"
   ]
  },
  {
   "cell_type": "code",
   "execution_count": null,
   "metadata": {},
   "outputs": [],
   "source": [
    "nthroot(7,12), 7^(1/12)"
   ]
  },
  {
   "cell_type": "code",
   "execution_count": null,
   "metadata": {},
   "outputs": [],
   "source": [
    "x = 2.0\n",
    "nthroot( x+ϵ,3), ∛x, 1/x^(2/3)/3"
   ]
  },
  {
   "cell_type": "markdown",
   "metadata": {},
   "source": [
    "## Forward Diff\n",
    "Now that you understand it, you can use the official package"
   ]
  },
  {
   "cell_type": "code",
   "execution_count": null,
   "metadata": {},
   "outputs": [],
   "source": [
    "Pkg.add(\"ForwardDiff\")"
   ]
  },
  {
   "cell_type": "code",
   "execution_count": null,
   "metadata": {},
   "outputs": [],
   "source": [
    "using ForwardDiff"
   ]
  },
  {
   "cell_type": "code",
   "execution_count": null,
   "metadata": {},
   "outputs": [],
   "source": [
    "ForwardDiff.derivative(sqrt, 2)"
   ]
  },
  {
   "cell_type": "code",
   "execution_count": null,
   "metadata": {},
   "outputs": [],
   "source": [
    "ForwardDiff.derivative(Babylonian, 2)"
   ]
  },
  {
   "cell_type": "code",
   "execution_count": null,
   "metadata": {},
   "outputs": [],
   "source": [
    "@which ForwardDiff.derivative(sqrt, 2)"
   ]
  },
  {
   "cell_type": "code",
   "execution_count": null,
   "metadata": {},
   "outputs": [],
   "source": []
  },
  {
   "cell_type": "markdown",
   "metadata": {},
   "source": [
    "## Close Look at Convergence with big floats\n",
    "the -log10 gives the number of correct digits.  Watch the quadratic convergence right before your eyes."
   ]
  },
  {
   "cell_type": "code",
   "execution_count": null,
   "metadata": {},
   "outputs": [],
   "source": [
    "setprecision(3000)\n",
    "round.(Float64.(log10.([Babylonian(BigFloat(2),N=k) for k=1:10] - √BigFloat(2))),3)"
   ]
  },
  {
   "cell_type": "code",
   "execution_count": null,
   "metadata": {},
   "outputs": [],
   "source": [
    "struct D1{T} <: Number  # D is a function-derivative pair\n",
    "    f::Tuple{T,T}\n",
    "end"
   ]
  },
  {
   "cell_type": "code",
   "execution_count": null,
   "metadata": {},
   "outputs": [],
   "source": [
    "z = D((2.0,1.0))\n",
    "z1 = D1((BigFloat(2.0),BigFloat(1.0)))"
   ]
  },
  {
   "cell_type": "code",
   "execution_count": null,
   "metadata": {},
   "outputs": [],
   "source": [
    "import Base: +, /, convert, promote_rule\n",
    "+(x::D1, y::D1) = D1(x.f .+ y.f)\n",
    "/(x::D1, y::D1) = D1((x.f[1]/y.f[1], (y.f[1]*x.f[2] - x.f[1]*y.f[2])/y.f[1]^2))\n",
    "convert(::Type{D1{T}}, x::Real) where {T} = D1((convert(T, x), zero(T)))\n",
    "promote_rule(::Type{D1{T}}, ::Type{S}) where {T,S<:Number} = D1{promote_type(T,S)}"
   ]
  },
  {
   "cell_type": "code",
   "execution_count": null,
   "metadata": {},
   "outputs": [],
   "source": [
    "A = randn(3,3)"
   ]
  },
  {
   "cell_type": "code",
   "execution_count": null,
   "metadata": {},
   "outputs": [],
   "source": [
    "x = randn(3)"
   ]
  },
  {
   "cell_type": "code",
   "execution_count": null,
   "metadata": {},
   "outputs": [],
   "source": [
    "ForwardDiff.gradient(x->x'A*x,x)"
   ]
  },
  {
   "cell_type": "code",
   "execution_count": null,
   "metadata": {},
   "outputs": [],
   "source": [
    "(A+A')*x"
   ]
  },
  {
   "cell_type": "code",
   "execution_count": null,
   "metadata": {},
   "outputs": [],
   "source": [
    "n = 4\n",
    "Strang = SymTridiagonal(2*ones(n),-ones(n-1))"
   ]
  },
  {
   "cell_type": "markdown",
   "metadata": {},
   "source": [
    "##  But wait there's more!"
   ]
  },
  {
   "cell_type": "markdown",
   "metadata": {},
   "source": [
    "Many packages need to be taught how to compute autodiffs of matrix factorications such as the svd or lu.  Julia will \"just do it,\" no\n",
    "teaching necessary for reasons such as the above.  This is illustrated in another notebook, not included here."
   ]
  },
  {
   "cell_type": "code",
   "execution_count": null,
   "metadata": {},
   "outputs": [],
   "source": []
  }
 ],
 "metadata": {
  "kernelspec": {
   "display_name": "Julia 1.5.3",
   "language": "julia",
   "name": "julia-1.5"
  },
  "language_info": {
   "file_extension": ".jl",
   "mimetype": "application/julia",
   "name": "julia",
   "version": "1.5.3"
  }
 },
 "nbformat": 4,
 "nbformat_minor": 2
}
