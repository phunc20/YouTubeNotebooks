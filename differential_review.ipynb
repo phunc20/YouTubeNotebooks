{
 "cells": [
  {
   "cell_type": "markdown",
   "id": "overall-mainstream",
   "metadata": {},
   "source": [
    "## Raison d'être\n",
    "This notebook is to explain why `(A+A')*x` can be used to verify `ForwardDiff.gradient(x->x'A*x,x)` in `./Automatic Differentiation in 10 Minutes.ipynb`."
   ]
  },
  {
   "cell_type": "markdown",
   "id": "romantic-mexico",
   "metadata": {},
   "source": [
    "### `size` of an array in Julia\n",
    "Since I am still relatively new to Julia, let's recall how Julia deals with **shapes/sizes**."
   ]
  },
  {
   "cell_type": "code",
   "execution_count": 1,
   "id": "scenic-europe",
   "metadata": {},
   "outputs": [
    {
     "data": {
      "text/plain": [
       "3×3 Array{Float64,2}:\n",
       " -0.131067   2.09169   -1.55142\n",
       " -1.16364   -0.578139   2.25998\n",
       " -0.461744  -1.61132    1.299"
      ]
     },
     "execution_count": 1,
     "metadata": {},
     "output_type": "execute_result"
    }
   ],
   "source": [
    "A = randn(3,3)"
   ]
  },
  {
   "cell_type": "code",
   "execution_count": 2,
   "id": "relative-leonard",
   "metadata": {},
   "outputs": [
    {
     "data": {
      "text/plain": [
       "(3, 3)"
      ]
     },
     "execution_count": 2,
     "metadata": {},
     "output_type": "execute_result"
    }
   ],
   "source": [
    "size(A)"
   ]
  },
  {
   "cell_type": "code",
   "execution_count": 3,
   "id": "beneficial-penetration",
   "metadata": {},
   "outputs": [
    {
     "data": {
      "text/plain": [
       "3-element Array{Float64,1}:\n",
       "  0.8572035090290636\n",
       "  1.100279349189294\n",
       " -0.5877937613435069"
      ]
     },
     "execution_count": 3,
     "metadata": {},
     "output_type": "execute_result"
    }
   ],
   "source": [
    "x = randn(3)"
   ]
  },
  {
   "cell_type": "code",
   "execution_count": 4,
   "id": "suffering-quick",
   "metadata": {},
   "outputs": [
    {
     "data": {
      "text/plain": [
       "(3,)"
      ]
     },
     "execution_count": 4,
     "metadata": {},
     "output_type": "execute_result"
    }
   ],
   "source": [
    "size(x)"
   ]
  },
  {
   "cell_type": "code",
   "execution_count": 5,
   "id": "conceptual-preliminary",
   "metadata": {},
   "outputs": [
    {
     "data": {
      "text/plain": [
       "3-element Array{Float64,1}:\n",
       "  3.1010046540491953\n",
       " -2.961991502064001\n",
       " -2.9322573933725877"
      ]
     },
     "execution_count": 5,
     "metadata": {},
     "output_type": "execute_result"
    }
   ],
   "source": [
    "A*x"
   ]
  },
  {
   "cell_type": "code",
   "execution_count": 6,
   "id": "fixed-colonial",
   "metadata": {},
   "outputs": [
    {
     "data": {
      "text/plain": [
       "(3,)"
      ]
     },
     "execution_count": 6,
     "metadata": {},
     "output_type": "execute_result"
    }
   ],
   "source": [
    "size(A*x)"
   ]
  },
  {
   "cell_type": "code",
   "execution_count": 7,
   "id": "referenced-difficulty",
   "metadata": {},
   "outputs": [
    {
     "data": {
      "text/plain": [
       "(1, 3)"
      ]
     },
     "execution_count": 7,
     "metadata": {},
     "output_type": "execute_result"
    }
   ],
   "source": [
    "size(x')"
   ]
  },
  {
   "cell_type": "code",
   "execution_count": 8,
   "id": "unlikely-holiday",
   "metadata": {},
   "outputs": [
    {
     "data": {
      "text/plain": [
       "(1, 3)"
      ]
     },
     "execution_count": 8,
     "metadata": {},
     "output_type": "execute_result"
    }
   ],
   "source": [
    "size(x'*A')"
   ]
  },
  {
   "cell_type": "code",
   "execution_count": 9,
   "id": "provincial-topic",
   "metadata": {},
   "outputs": [
    {
     "data": {
      "text/plain": [
       "3×1 Array{Float64,2}:\n",
       "  3.101004654049196\n",
       " -2.961991502064001\n",
       " -2.9322573933725877"
      ]
     },
     "execution_count": 9,
     "metadata": {},
     "output_type": "execute_result"
    }
   ],
   "source": [
    "A*reshape(x,3,1)"
   ]
  },
  {
   "cell_type": "code",
   "execution_count": 10,
   "id": "particular-preservation",
   "metadata": {},
   "outputs": [
    {
     "data": {
      "text/plain": [
       "(3, 1)"
      ]
     },
     "execution_count": 10,
     "metadata": {},
     "output_type": "execute_result"
    }
   ],
   "source": [
    "size(A*reshape(x,3,1))"
   ]
  },
  {
   "cell_type": "code",
   "execution_count": 11,
   "id": "anticipated-helmet",
   "metadata": {},
   "outputs": [
    {
     "data": {
      "text/plain": [
       "2.290914008018504"
      ]
     },
     "execution_count": 11,
     "metadata": {},
     "output_type": "execute_result"
    }
   ],
   "source": [
    "x'*x"
   ]
  },
  {
   "cell_type": "code",
   "execution_count": 15,
   "id": "tested-marsh",
   "metadata": {},
   "outputs": [
    {
     "data": {
      "text/plain": [
       "1×1 LinearAlgebra.Adjoint{Float64,Array{Float64,1}}:\n",
       " 2.290914008018504"
      ]
     },
     "execution_count": 15,
     "metadata": {},
     "output_type": "execute_result"
    }
   ],
   "source": [
    "x'*reshape(x,3,1)"
   ]
  },
  {
   "cell_type": "raw",
   "id": "unexpected-romance",
   "metadata": {},
   "source": [
    "x'*reshape(x,-1,1)"
   ]
  },
  {
   "cell_type": "raw",
   "id": "monthly-donna",
   "metadata": {},
   "source": [
    "DimensionMismatch(\"new dimensions (-1, 1) must be consistent with array size 3\")\n",
    "\n",
    "Stacktrace:\n",
    " [1] (::Base.var\"#throw_dmrsa#213\")(::Tuple{Int64,Int64}, ::Int64) at ./reshapedarray.jl:41\n",
    " [2] reshape at ./reshapedarray.jl:45 [inlined]\n",
    " [3] reshape(::Array{Float64,1}, ::Int64, ::Int64) at ./reshapedarray.jl:116\n",
    " [4] top-level scope at In[14]:1\n",
    " [5] include_string(::Function, ::Module, ::String, ::String) at ./loading.jl:1091"
   ]
  },
  {
   "cell_type": "raw",
   "id": "developmental-lindsay",
   "metadata": {},
   "source": [
    "x'*reshape(x,_,1)"
   ]
  },
  {
   "cell_type": "raw",
   "id": "little-throat",
   "metadata": {},
   "source": [
    "syntax: all-underscore identifier used as rvalue\n",
    "\n",
    "Stacktrace:\n",
    " [1] top-level scope at In[13]:1\n",
    " [2] include_string(::Function, ::Module, ::String, ::String) at ./loading.jl:1091\n"
   ]
  },
  {
   "cell_type": "markdown",
   "id": "binding-bridges",
   "metadata": {},
   "source": [
    "### Differential\n",
    "$$\n",
    "\\begin{align*}\n",
    "  f:\\quad &\\mathbb{R}^n \\to \\mathbb{R} \\\\\n",
    "       &x \\mapsto x^{T}Ax\n",
    "\\end{align*}\n",
    "$$\n"
   ]
  },
  {
   "cell_type": "markdown",
   "id": "simple-nowhere",
   "metadata": {},
   "source": [
    "For all $x, h \\in \\mathbb{R}^{n}$, We have\n",
    "$$\n",
    "\\begin{align*}\n",
    "  f(x+h) &= (x+h)^{T} A (x+h)                      \\\\\n",
    "         &= x^{T}Ax + h^{T}Ax + x^{T}Ah + h^{T}Ah  \\\\\n",
    "         &= f(x) + x^{T}A^{T}h + x^{T}Ah + h^{T}Ah  \\\\\n",
    "         &= f(x) + x^{T}(A^{T} + A)\\,h + h^{T}Ah\\,.  \\\\\n",
    "\\end{align*}\n",
    "$$"
   ]
  },
  {
   "cell_type": "markdown",
   "id": "overall-baseball",
   "metadata": {},
   "source": [
    "Since the transformation $h \\mapsto x^{T}(A^{T} + A)\\,h$ is linear, if we can prove that $h^{T}Ah = o(\\lVert h \\rVert)$, then we have $\\nabla f(x) =\n",
    "\\left(x^{T}(A^{T} + A)\\right)^{T} = (A + A^{T})x.$"
   ]
  },
  {
   "cell_type": "markdown",
   "id": "educational-lincoln",
   "metadata": {},
   "source": []
  },
  {
   "cell_type": "code",
   "execution_count": null,
   "id": "mysterious-indicator",
   "metadata": {},
   "outputs": [],
   "source": []
  },
  {
   "cell_type": "code",
   "execution_count": null,
   "id": "executive-duplicate",
   "metadata": {},
   "outputs": [],
   "source": []
  }
 ],
 "metadata": {
  "kernelspec": {
   "display_name": "Julia 1.5.3",
   "language": "julia",
   "name": "julia-1.5"
  },
  "language_info": {
   "file_extension": ".jl",
   "mimetype": "application/julia",
   "name": "julia",
   "version": "1.5.3"
  }
 },
 "nbformat": 4,
 "nbformat_minor": 5
}
