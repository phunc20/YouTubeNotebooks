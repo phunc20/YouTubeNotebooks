{
 "cells": [
  {
   "cell_type": "markdown",
   "id": "bacterial-circular",
   "metadata": {},
   "source": [
    "## Raison d'être\n",
    "This notebook is to explain why `(A+A')*x` can be used to verify `ForwardDiff.gradient(x->x'A*x,x)` in `./Automatic Differentiation in 10 Minutes.ipynb`."
   ]
  },
  {
   "cell_type": "code",
   "execution_count": 2,
   "id": "practical-acrylic",
   "metadata": {},
   "outputs": [
    {
     "data": {
      "text/plain": [
       "3×3 Array{Float64,2}:\n",
       " -0.31633   -1.85252    0.262466\n",
       " -0.119067   0.673018  -0.719999\n",
       " -0.820102  -0.898565  -1.71801"
      ]
     },
     "execution_count": 2,
     "metadata": {},
     "output_type": "execute_result"
    }
   ],
   "source": [
    "A = randn(3,3)"
   ]
  },
  {
   "cell_type": "code",
   "execution_count": 3,
   "id": "executive-banks",
   "metadata": {},
   "outputs": [
    {
     "data": {
      "text/plain": [
       "3-element Array{Float64,1}:\n",
       " -0.7187265639441195\n",
       " -0.4072388215076498\n",
       "  0.4596722352439819"
      ]
     },
     "execution_count": 3,
     "metadata": {},
     "output_type": "execute_result"
    }
   ],
   "source": [
    "x = randn(3)"
   ]
  },
  {
   "cell_type": "code",
   "execution_count": 1,
   "id": "spread-exploration",
   "metadata": {},
   "outputs": [],
   "source": [
    "using ForwardDiff"
   ]
  },
  {
   "cell_type": "code",
   "execution_count": 4,
   "id": "cubic-ebony",
   "metadata": {},
   "outputs": [
    {
     "data": {
      "text/plain": [
       "3-element Array{Float64,1}:\n",
       "  1.001287888379385\n",
       "  0.12486790174782009\n",
       " -0.5195084166634044"
      ]
     },
     "execution_count": 4,
     "metadata": {},
     "output_type": "execute_result"
    }
   ],
   "source": [
    "ForwardDiff.gradient(x->x'A*x,x)"
   ]
  },
  {
   "cell_type": "code",
   "execution_count": 5,
   "id": "broadband-frontier",
   "metadata": {},
   "outputs": [
    {
     "data": {
      "text/plain": [
       "3-element Array{Float64,1}:\n",
       "  1.0012878883793852\n",
       "  0.12486790174781992\n",
       " -0.5195084166634043"
      ]
     },
     "execution_count": 5,
     "metadata": {},
     "output_type": "execute_result"
    }
   ],
   "source": [
    "(A+A')*x"
   ]
  },
  {
   "cell_type": "markdown",
   "id": "sporting-transfer",
   "metadata": {},
   "source": [
    "### `size` of an array in Julia\n",
    "Since I am still relatively new to Julia, let's recall how Julia deals with **shapes/sizes**."
   ]
  },
  {
   "cell_type": "code",
   "execution_count": 2,
   "id": "seven-viewer",
   "metadata": {},
   "outputs": [
    {
     "data": {
      "text/plain": [
       "(3, 3)"
      ]
     },
     "execution_count": 2,
     "metadata": {},
     "output_type": "execute_result"
    }
   ],
   "source": [
    "size(A)"
   ]
  },
  {
   "cell_type": "code",
   "execution_count": 4,
   "id": "sorted-socket",
   "metadata": {},
   "outputs": [
    {
     "data": {
      "text/plain": [
       "(3,)"
      ]
     },
     "execution_count": 4,
     "metadata": {},
     "output_type": "execute_result"
    }
   ],
   "source": [
    "size(x)"
   ]
  },
  {
   "cell_type": "code",
   "execution_count": 5,
   "id": "median-impact",
   "metadata": {},
   "outputs": [
    {
     "data": {
      "text/plain": [
       "3-element Array{Float64,1}:\n",
       "  3.1010046540491953\n",
       " -2.961991502064001\n",
       " -2.9322573933725877"
      ]
     },
     "execution_count": 5,
     "metadata": {},
     "output_type": "execute_result"
    }
   ],
   "source": [
    "A*x"
   ]
  },
  {
   "cell_type": "code",
   "execution_count": 6,
   "id": "useful-compensation",
   "metadata": {},
   "outputs": [
    {
     "data": {
      "text/plain": [
       "(3,)"
      ]
     },
     "execution_count": 6,
     "metadata": {},
     "output_type": "execute_result"
    }
   ],
   "source": [
    "size(A*x)"
   ]
  },
  {
   "cell_type": "code",
   "execution_count": 7,
   "id": "alpine-browser",
   "metadata": {},
   "outputs": [
    {
     "data": {
      "text/plain": [
       "(1, 3)"
      ]
     },
     "execution_count": 7,
     "metadata": {},
     "output_type": "execute_result"
    }
   ],
   "source": [
    "size(x')"
   ]
  },
  {
   "cell_type": "code",
   "execution_count": 8,
   "id": "proud-astronomy",
   "metadata": {},
   "outputs": [
    {
     "data": {
      "text/plain": [
       "(1, 3)"
      ]
     },
     "execution_count": 8,
     "metadata": {},
     "output_type": "execute_result"
    }
   ],
   "source": [
    "size(x'*A')"
   ]
  },
  {
   "cell_type": "code",
   "execution_count": 9,
   "id": "sealed-artist",
   "metadata": {},
   "outputs": [
    {
     "data": {
      "text/plain": [
       "3×1 Array{Float64,2}:\n",
       "  3.101004654049196\n",
       " -2.961991502064001\n",
       " -2.9322573933725877"
      ]
     },
     "execution_count": 9,
     "metadata": {},
     "output_type": "execute_result"
    }
   ],
   "source": [
    "A*reshape(x,3,1)"
   ]
  },
  {
   "cell_type": "code",
   "execution_count": 10,
   "id": "planned-paradise",
   "metadata": {},
   "outputs": [
    {
     "data": {
      "text/plain": [
       "(3, 1)"
      ]
     },
     "execution_count": 10,
     "metadata": {},
     "output_type": "execute_result"
    }
   ],
   "source": [
    "size(A*reshape(x,3,1))"
   ]
  },
  {
   "cell_type": "code",
   "execution_count": 11,
   "id": "departmental-warning",
   "metadata": {},
   "outputs": [
    {
     "data": {
      "text/plain": [
       "2.290914008018504"
      ]
     },
     "execution_count": 11,
     "metadata": {},
     "output_type": "execute_result"
    }
   ],
   "source": [
    "x'*x"
   ]
  },
  {
   "cell_type": "code",
   "execution_count": 15,
   "id": "interpreted-accident",
   "metadata": {},
   "outputs": [
    {
     "data": {
      "text/plain": [
       "1×1 LinearAlgebra.Adjoint{Float64,Array{Float64,1}}:\n",
       " 2.290914008018504"
      ]
     },
     "execution_count": 15,
     "metadata": {},
     "output_type": "execute_result"
    }
   ],
   "source": [
    "x'*reshape(x,3,1)"
   ]
  },
  {
   "cell_type": "raw",
   "id": "cooperative-williams",
   "metadata": {},
   "source": [
    "x'*reshape(x,-1,1)"
   ]
  },
  {
   "cell_type": "raw",
   "id": "rational-mainland",
   "metadata": {},
   "source": [
    "DimensionMismatch(\"new dimensions (-1, 1) must be consistent with array size 3\")\n",
    "\n",
    "Stacktrace:\n",
    " [1] (::Base.var\"#throw_dmrsa#213\")(::Tuple{Int64,Int64}, ::Int64) at ./reshapedarray.jl:41\n",
    " [2] reshape at ./reshapedarray.jl:45 [inlined]\n",
    " [3] reshape(::Array{Float64,1}, ::Int64, ::Int64) at ./reshapedarray.jl:116\n",
    " [4] top-level scope at In[14]:1\n",
    " [5] include_string(::Function, ::Module, ::String, ::String) at ./loading.jl:1091"
   ]
  },
  {
   "cell_type": "raw",
   "id": "organic-gross",
   "metadata": {},
   "source": [
    "x'*reshape(x,_,1)"
   ]
  },
  {
   "cell_type": "raw",
   "id": "flying-tucson",
   "metadata": {},
   "source": [
    "syntax: all-underscore identifier used as rvalue\n",
    "\n",
    "Stacktrace:\n",
    " [1] top-level scope at In[13]:1\n",
    " [2] include_string(::Function, ::Module, ::String, ::String) at ./loading.jl:1091\n"
   ]
  },
  {
   "cell_type": "markdown",
   "id": "colonial-investigation",
   "metadata": {},
   "source": [
    "### Differential\n",
    "$$\n",
    "\\begin{align*}\n",
    "  f:\\quad &\\mathbb{R}^n \\to \\mathbb{R} \\\\\n",
    "       &x \\mapsto x^{T}Ax\n",
    "\\end{align*}\n",
    "$$\n"
   ]
  },
  {
   "cell_type": "markdown",
   "id": "further-palestinian",
   "metadata": {},
   "source": [
    "For all $x, h \\in \\mathbb{R}^{n}$, We have\n",
    "$$\n",
    "\\begin{align*}\n",
    "  f(x+h) &= (x+h)^{T} A (x+h)                      \\\\\n",
    "         &= x^{T}Ax + h^{T}Ax + x^{T}Ah + h^{T}Ah  \\\\\n",
    "         &= f(x) + x^{T}A^{T}h + x^{T}Ah + h^{T}Ah  \\\\\n",
    "         &= f(x) + x^{T}(A^{T} + A)\\,h + h^{T}Ah\\,.  \\\\\n",
    "\\end{align*}\n",
    "$$"
   ]
  },
  {
   "cell_type": "markdown",
   "id": "placed-psychology",
   "metadata": {},
   "source": [
    "Since the transformation $h \\mapsto x^{T}(A^{T} + A)\\,h$ is linear, if we can prove that $h^{T}Ah = o(\\lVert h \\rVert)$, then we have $\\nabla f(x) =\n",
    "\\left(x^{T}(A^{T} + A)\\right)^{T} = (A + A^{T})x.$"
   ]
  },
  {
   "cell_type": "markdown",
   "id": "prostate-trash",
   "metadata": {},
   "source": [
    "We shall use the concept of matrix norm in the following proof; for those whose memory about matrix norm has gotten a little rusty, they may refer to one of the following sources\n",
    "- [my own maths notes](https://github.com/phunc20/maths/blob/master/definitions/matrices/norm/motivation.pdf)\n",
    "- [Wikipedia is also a good one for this matter](https://en.wikipedia.org/wiki/Matrix_norm)"
   ]
  },
  {
   "cell_type": "markdown",
   "id": "fresh-pipeline",
   "metadata": {},
   "source": [
    "Ok, we are to prove that $h^{T}Ah = o(\\lVert h \\rVert)$ and that, by definition, requires that for all $\\epsilon > 0$, we must show that there exists $\\delta > 0$\n",
    "s.t. $| h^T A h| < \\epsilon$ whenever $\\lVert h \\rVert < \\delta\\,.$ So, let $\\epsilon > 0$ be arbitrary."
   ]
  },
  {
   "cell_type": "markdown",
   "id": "three-hungarian",
   "metadata": {},
   "source": [
    "We have\n",
    "$$\n",
    "  | h^T A h| \\underbrace{\\le}_{|v\\,\\cdot\\, w| \\,\\le\\, \\lVert v \\rVert \\lVert v \\rVert \\,\\forall\\, v,\\, w\\, \\in\\, \\mathbb{R}^{n} }\n",
    "  \\lVert h \\rVert \\lVert Ah \\rVert \n",
    "  \\overbrace{\\le}^{{\\lVert A \\rVert} {\\lVert h \\rVert} \\,\\ge\\, \\lVert Ah \\rVert} {\\lVert h \\rVert} {\\lVert A \\rVert} {\\lVert h \\rVert}\\,.\n",
    "$$"
   ]
  },
  {
   "cell_type": "markdown",
   "id": "characteristic-celebrity",
   "metadata": {},
   "source": [
    "If $\\lVert A \\rVert \\neq 0$, then it suffices to take $\\delta = \\frac{\\epsilon}{\\lVert A \\rVert}$. Indeed,\n",
    "$$\n",
    "  \\lVert h \\rVert < \\frac{\\epsilon}{\\lVert A \\rVert} \\implies {\\lVert h \\rVert} {\\lVert A \\rVert} {\\lVert h \\rVert} < \\epsilon {\\lVert h \\rVert} \\implies  | h^T A h | < \\epsilon {\\lVert h \\rVert}\\,.\n",
    "$$"
   ]
  },
  {
   "cell_type": "markdown",
   "id": "clinical-bishop",
   "metadata": {},
   "source": [
    "If $\\lVert A \\rVert = 0$, then $A = 0$ and $| h^T A h | = 0 < \\epsilon$ trivially."
   ]
  }
 ],
 "metadata": {
  "kernelspec": {
   "display_name": "Julia 1.5.3",
   "language": "julia",
   "name": "julia-1.5"
  },
  "language_info": {
   "file_extension": ".jl",
   "mimetype": "application/julia",
   "name": "julia",
   "version": "1.5.3"
  }
 },
 "nbformat": 4,
 "nbformat_minor": 5
}
